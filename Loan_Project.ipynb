{
 "cells": [
  {
   "cell_type": "markdown",
   "id": "12f5bf35",
   "metadata": {},
   "source": [
    "### Importing Libraries"
   ]
  },
  {
   "cell_type": "code",
   "execution_count": 1,
   "id": "3de4da67",
   "metadata": {},
   "outputs": [],
   "source": [
    "import pandas as pd\n",
    "import numpy as np\n",
    "import seaborn as sns\n",
    "import matplotlib.pyplot as plt\n",
    "import warnings\n",
    "warnings.filterwarnings('ignore')"
   ]
  },
  {
   "cell_type": "markdown",
   "id": "d501173b",
   "metadata": {},
   "source": [
    "### Loading the data"
   ]
  },
  {
   "cell_type": "code",
   "execution_count": 2,
   "id": "ad3499e4",
   "metadata": {},
   "outputs": [],
   "source": [
    "df=pd.read_csv('loan_data_train.csv')"
   ]
  },
  {
   "cell_type": "code",
   "execution_count": 3,
   "id": "1e715112",
   "metadata": {},
   "outputs": [],
   "source": [
    "td=pd.read_csv('loan_data_test.csv')"
   ]
  },
  {
   "cell_type": "code",
   "execution_count": 4,
   "id": "fa3b0c20",
   "metadata": {},
   "outputs": [
    {
     "data": {
      "text/html": [
       "<div>\n",
       "<style scoped>\n",
       "    .dataframe tbody tr th:only-of-type {\n",
       "        vertical-align: middle;\n",
       "    }\n",
       "\n",
       "    .dataframe tbody tr th {\n",
       "        vertical-align: top;\n",
       "    }\n",
       "\n",
       "    .dataframe thead th {\n",
       "        text-align: right;\n",
       "    }\n",
       "</style>\n",
       "<table border=\"1\" class=\"dataframe\">\n",
       "  <thead>\n",
       "    <tr style=\"text-align: right;\">\n",
       "      <th></th>\n",
       "      <th>ID</th>\n",
       "      <th>Amount.Requested</th>\n",
       "      <th>Amount.Funded.By.Investors</th>\n",
       "      <th>Interest.Rate</th>\n",
       "      <th>Loan.Length</th>\n",
       "      <th>Loan.Purpose</th>\n",
       "      <th>Debt.To.Income.Ratio</th>\n",
       "      <th>State</th>\n",
       "      <th>Home.Ownership</th>\n",
       "      <th>Monthly.Income</th>\n",
       "      <th>FICO.Range</th>\n",
       "      <th>Open.CREDIT.Lines</th>\n",
       "      <th>Revolving.CREDIT.Balance</th>\n",
       "      <th>Inquiries.in.the.Last.6.Months</th>\n",
       "      <th>Employment.Length</th>\n",
       "    </tr>\n",
       "  </thead>\n",
       "  <tbody>\n",
       "    <tr>\n",
       "      <th>0</th>\n",
       "      <td>79542.0</td>\n",
       "      <td>25000</td>\n",
       "      <td>25000</td>\n",
       "      <td>18.49%</td>\n",
       "      <td>60 months</td>\n",
       "      <td>debt_consolidation</td>\n",
       "      <td>27.56%</td>\n",
       "      <td>VA</td>\n",
       "      <td>MORTGAGE</td>\n",
       "      <td>8606.56</td>\n",
       "      <td>720-724</td>\n",
       "      <td>11</td>\n",
       "      <td>15210</td>\n",
       "      <td>3.0</td>\n",
       "      <td>5 years</td>\n",
       "    </tr>\n",
       "    <tr>\n",
       "      <th>1</th>\n",
       "      <td>75473.0</td>\n",
       "      <td>19750</td>\n",
       "      <td>19750</td>\n",
       "      <td>17.27%</td>\n",
       "      <td>60 months</td>\n",
       "      <td>debt_consolidation</td>\n",
       "      <td>13.39%</td>\n",
       "      <td>NY</td>\n",
       "      <td>MORTGAGE</td>\n",
       "      <td>6737.50</td>\n",
       "      <td>710-714</td>\n",
       "      <td>14</td>\n",
       "      <td>19070</td>\n",
       "      <td>3.0</td>\n",
       "      <td>4 years</td>\n",
       "    </tr>\n",
       "    <tr>\n",
       "      <th>2</th>\n",
       "      <td>67265.0</td>\n",
       "      <td>2100</td>\n",
       "      <td>2100</td>\n",
       "      <td>14.33%</td>\n",
       "      <td>36 months</td>\n",
       "      <td>major_purchase</td>\n",
       "      <td>3.50%</td>\n",
       "      <td>LA</td>\n",
       "      <td>OWN</td>\n",
       "      <td>1000.00</td>\n",
       "      <td>690-694</td>\n",
       "      <td>13</td>\n",
       "      <td>893</td>\n",
       "      <td>1.0</td>\n",
       "      <td>&lt; 1 year</td>\n",
       "    </tr>\n",
       "    <tr>\n",
       "      <th>3</th>\n",
       "      <td>80167.0</td>\n",
       "      <td>28000</td>\n",
       "      <td>28000</td>\n",
       "      <td>16.29%</td>\n",
       "      <td>36 months</td>\n",
       "      <td>credit_card</td>\n",
       "      <td>19.62%</td>\n",
       "      <td>NV</td>\n",
       "      <td>MORTGAGE</td>\n",
       "      <td>7083.33</td>\n",
       "      <td>710-714</td>\n",
       "      <td>12</td>\n",
       "      <td>38194</td>\n",
       "      <td>1.0</td>\n",
       "      <td>10+ years</td>\n",
       "    </tr>\n",
       "    <tr>\n",
       "      <th>4</th>\n",
       "      <td>17240.0</td>\n",
       "      <td>24250</td>\n",
       "      <td>17431.82</td>\n",
       "      <td>12.23%</td>\n",
       "      <td>60 months</td>\n",
       "      <td>credit_card</td>\n",
       "      <td>23.79%</td>\n",
       "      <td>OH</td>\n",
       "      <td>MORTGAGE</td>\n",
       "      <td>5833.33</td>\n",
       "      <td>730-734</td>\n",
       "      <td>6</td>\n",
       "      <td>31061</td>\n",
       "      <td>2.0</td>\n",
       "      <td>10+ years</td>\n",
       "    </tr>\n",
       "  </tbody>\n",
       "</table>\n",
       "</div>"
      ],
      "text/plain": [
       "        ID Amount.Requested Amount.Funded.By.Investors Interest.Rate  \\\n",
       "0  79542.0            25000                      25000        18.49%   \n",
       "1  75473.0            19750                      19750        17.27%   \n",
       "2  67265.0             2100                       2100        14.33%   \n",
       "3  80167.0            28000                      28000        16.29%   \n",
       "4  17240.0            24250                   17431.82        12.23%   \n",
       "\n",
       "  Loan.Length        Loan.Purpose Debt.To.Income.Ratio State Home.Ownership  \\\n",
       "0   60 months  debt_consolidation               27.56%    VA       MORTGAGE   \n",
       "1   60 months  debt_consolidation               13.39%    NY       MORTGAGE   \n",
       "2   36 months      major_purchase                3.50%    LA            OWN   \n",
       "3   36 months         credit_card               19.62%    NV       MORTGAGE   \n",
       "4   60 months         credit_card               23.79%    OH       MORTGAGE   \n",
       "\n",
       "   Monthly.Income FICO.Range Open.CREDIT.Lines Revolving.CREDIT.Balance  \\\n",
       "0         8606.56    720-724                11                    15210   \n",
       "1         6737.50    710-714                14                    19070   \n",
       "2         1000.00    690-694                13                      893   \n",
       "3         7083.33    710-714                12                    38194   \n",
       "4         5833.33    730-734                 6                    31061   \n",
       "\n",
       "   Inquiries.in.the.Last.6.Months Employment.Length  \n",
       "0                             3.0           5 years  \n",
       "1                             3.0           4 years  \n",
       "2                             1.0          < 1 year  \n",
       "3                             1.0         10+ years  \n",
       "4                             2.0         10+ years  "
      ]
     },
     "execution_count": 4,
     "metadata": {},
     "output_type": "execute_result"
    }
   ],
   "source": [
    "df.head()"
   ]
  },
  {
   "cell_type": "code",
   "execution_count": 5,
   "id": "a8ab4773",
   "metadata": {},
   "outputs": [
    {
     "data": {
      "text/plain": [
       "(2200, 15)"
      ]
     },
     "execution_count": 5,
     "metadata": {},
     "output_type": "execute_result"
    }
   ],
   "source": [
    "df.shape"
   ]
  },
  {
   "cell_type": "code",
   "execution_count": 6,
   "id": "7f841dd5",
   "metadata": {},
   "outputs": [
    {
     "data": {
      "text/html": [
       "<div>\n",
       "<style scoped>\n",
       "    .dataframe tbody tr th:only-of-type {\n",
       "        vertical-align: middle;\n",
       "    }\n",
       "\n",
       "    .dataframe tbody tr th {\n",
       "        vertical-align: top;\n",
       "    }\n",
       "\n",
       "    .dataframe thead th {\n",
       "        text-align: right;\n",
       "    }\n",
       "</style>\n",
       "<table border=\"1\" class=\"dataframe\">\n",
       "  <thead>\n",
       "    <tr style=\"text-align: right;\">\n",
       "      <th></th>\n",
       "      <th>ID</th>\n",
       "      <th>Amount.Requested</th>\n",
       "      <th>Amount.Funded.By.Investors</th>\n",
       "      <th>Loan.Length</th>\n",
       "      <th>Loan.Purpose</th>\n",
       "      <th>Debt.To.Income.Ratio</th>\n",
       "      <th>State</th>\n",
       "      <th>Home.Ownership</th>\n",
       "      <th>Monthly.Income</th>\n",
       "      <th>FICO.Range</th>\n",
       "      <th>Open.CREDIT.Lines</th>\n",
       "      <th>Revolving.CREDIT.Balance</th>\n",
       "      <th>Inquiries.in.the.Last.6.Months</th>\n",
       "      <th>Employment.Length</th>\n",
       "    </tr>\n",
       "  </thead>\n",
       "  <tbody>\n",
       "    <tr>\n",
       "      <th>0</th>\n",
       "      <td>20093</td>\n",
       "      <td>5000</td>\n",
       "      <td>5000</td>\n",
       "      <td>60 months</td>\n",
       "      <td>moving</td>\n",
       "      <td>12.59%</td>\n",
       "      <td>NY</td>\n",
       "      <td>RENT</td>\n",
       "      <td>4416.67</td>\n",
       "      <td>690-694</td>\n",
       "      <td>13</td>\n",
       "      <td>7686</td>\n",
       "      <td>0</td>\n",
       "      <td>&lt; 1 year</td>\n",
       "    </tr>\n",
       "    <tr>\n",
       "      <th>1</th>\n",
       "      <td>62445</td>\n",
       "      <td>18000</td>\n",
       "      <td>18000</td>\n",
       "      <td>60 months</td>\n",
       "      <td>debt_consolidation</td>\n",
       "      <td>4.93%</td>\n",
       "      <td>CA</td>\n",
       "      <td>RENT</td>\n",
       "      <td>5258.50</td>\n",
       "      <td>710-714</td>\n",
       "      <td>6</td>\n",
       "      <td>11596</td>\n",
       "      <td>0</td>\n",
       "      <td>10+ years</td>\n",
       "    </tr>\n",
       "    <tr>\n",
       "      <th>2</th>\n",
       "      <td>65248</td>\n",
       "      <td>7200</td>\n",
       "      <td>7200</td>\n",
       "      <td>60 months</td>\n",
       "      <td>debt_consolidation</td>\n",
       "      <td>25.16%</td>\n",
       "      <td>LA</td>\n",
       "      <td>MORTGAGE</td>\n",
       "      <td>3750.00</td>\n",
       "      <td>750-754</td>\n",
       "      <td>13</td>\n",
       "      <td>7283</td>\n",
       "      <td>0</td>\n",
       "      <td>6 years</td>\n",
       "    </tr>\n",
       "    <tr>\n",
       "      <th>3</th>\n",
       "      <td>81822</td>\n",
       "      <td>7200</td>\n",
       "      <td>7200</td>\n",
       "      <td>36 months</td>\n",
       "      <td>debt_consolidation</td>\n",
       "      <td>17.27%</td>\n",
       "      <td>NY</td>\n",
       "      <td>MORTGAGE</td>\n",
       "      <td>3416.67</td>\n",
       "      <td>790-794</td>\n",
       "      <td>14</td>\n",
       "      <td>4838</td>\n",
       "      <td>0</td>\n",
       "      <td>10+ years</td>\n",
       "    </tr>\n",
       "    <tr>\n",
       "      <th>4</th>\n",
       "      <td>57923</td>\n",
       "      <td>22000</td>\n",
       "      <td>22000</td>\n",
       "      <td>60 months</td>\n",
       "      <td>debt_consolidation</td>\n",
       "      <td>18.28%</td>\n",
       "      <td>MI</td>\n",
       "      <td>MORTGAGE</td>\n",
       "      <td>6083.33</td>\n",
       "      <td>720-724</td>\n",
       "      <td>9</td>\n",
       "      <td>20181</td>\n",
       "      <td>0</td>\n",
       "      <td>8 years</td>\n",
       "    </tr>\n",
       "  </tbody>\n",
       "</table>\n",
       "</div>"
      ],
      "text/plain": [
       "      ID  Amount.Requested Amount.Funded.By.Investors Loan.Length  \\\n",
       "0  20093              5000                       5000   60 months   \n",
       "1  62445             18000                      18000   60 months   \n",
       "2  65248              7200                       7200   60 months   \n",
       "3  81822              7200                       7200   36 months   \n",
       "4  57923             22000                      22000   60 months   \n",
       "\n",
       "         Loan.Purpose Debt.To.Income.Ratio State Home.Ownership  \\\n",
       "0              moving               12.59%    NY           RENT   \n",
       "1  debt_consolidation                4.93%    CA           RENT   \n",
       "2  debt_consolidation               25.16%    LA       MORTGAGE   \n",
       "3  debt_consolidation               17.27%    NY       MORTGAGE   \n",
       "4  debt_consolidation               18.28%    MI       MORTGAGE   \n",
       "\n",
       "   Monthly.Income FICO.Range Open.CREDIT.Lines  Revolving.CREDIT.Balance  \\\n",
       "0         4416.67    690-694                13                      7686   \n",
       "1         5258.50    710-714                 6                     11596   \n",
       "2         3750.00    750-754                13                      7283   \n",
       "3         3416.67    790-794                14                      4838   \n",
       "4         6083.33    720-724                 9                     20181   \n",
       "\n",
       "   Inquiries.in.the.Last.6.Months Employment.Length  \n",
       "0                               0          < 1 year  \n",
       "1                               0         10+ years  \n",
       "2                               0           6 years  \n",
       "3                               0         10+ years  \n",
       "4                               0           8 years  "
      ]
     },
     "execution_count": 6,
     "metadata": {},
     "output_type": "execute_result"
    }
   ],
   "source": [
    "td.head()"
   ]
  },
  {
   "cell_type": "code",
   "execution_count": 7,
   "id": "d192e532",
   "metadata": {},
   "outputs": [
    {
     "data": {
      "text/plain": [
       "(300, 14)"
      ]
     },
     "execution_count": 7,
     "metadata": {},
     "output_type": "execute_result"
    }
   ],
   "source": [
    "td.shape"
   ]
  },
  {
   "cell_type": "code",
   "execution_count": 8,
   "id": "c396105d",
   "metadata": {},
   "outputs": [
    {
     "data": {
      "text/html": [
       "<div>\n",
       "<style scoped>\n",
       "    .dataframe tbody tr th:only-of-type {\n",
       "        vertical-align: middle;\n",
       "    }\n",
       "\n",
       "    .dataframe tbody tr th {\n",
       "        vertical-align: top;\n",
       "    }\n",
       "\n",
       "    .dataframe thead th {\n",
       "        text-align: right;\n",
       "    }\n",
       "</style>\n",
       "<table border=\"1\" class=\"dataframe\">\n",
       "  <thead>\n",
       "    <tr style=\"text-align: right;\">\n",
       "      <th></th>\n",
       "      <th>ID</th>\n",
       "      <th>Amount.Requested</th>\n",
       "      <th>Amount.Funded.By.Investors</th>\n",
       "      <th>Loan.Length</th>\n",
       "      <th>Loan.Purpose</th>\n",
       "      <th>Debt.To.Income.Ratio</th>\n",
       "      <th>State</th>\n",
       "      <th>Home.Ownership</th>\n",
       "      <th>Monthly.Income</th>\n",
       "      <th>FICO.Range</th>\n",
       "      <th>Open.CREDIT.Lines</th>\n",
       "      <th>Revolving.CREDIT.Balance</th>\n",
       "      <th>Inquiries.in.the.Last.6.Months</th>\n",
       "      <th>Employment.Length</th>\n",
       "      <th>Interest.Rate</th>\n",
       "    </tr>\n",
       "  </thead>\n",
       "  <tbody>\n",
       "    <tr>\n",
       "      <th>0</th>\n",
       "      <td>20093</td>\n",
       "      <td>5000</td>\n",
       "      <td>5000</td>\n",
       "      <td>60 months</td>\n",
       "      <td>moving</td>\n",
       "      <td>12.59%</td>\n",
       "      <td>NY</td>\n",
       "      <td>RENT</td>\n",
       "      <td>4416.67</td>\n",
       "      <td>690-694</td>\n",
       "      <td>13</td>\n",
       "      <td>7686</td>\n",
       "      <td>0</td>\n",
       "      <td>&lt; 1 year</td>\n",
       "      <td>testdata</td>\n",
       "    </tr>\n",
       "    <tr>\n",
       "      <th>1</th>\n",
       "      <td>62445</td>\n",
       "      <td>18000</td>\n",
       "      <td>18000</td>\n",
       "      <td>60 months</td>\n",
       "      <td>debt_consolidation</td>\n",
       "      <td>4.93%</td>\n",
       "      <td>CA</td>\n",
       "      <td>RENT</td>\n",
       "      <td>5258.50</td>\n",
       "      <td>710-714</td>\n",
       "      <td>6</td>\n",
       "      <td>11596</td>\n",
       "      <td>0</td>\n",
       "      <td>10+ years</td>\n",
       "      <td>testdata</td>\n",
       "    </tr>\n",
       "    <tr>\n",
       "      <th>2</th>\n",
       "      <td>65248</td>\n",
       "      <td>7200</td>\n",
       "      <td>7200</td>\n",
       "      <td>60 months</td>\n",
       "      <td>debt_consolidation</td>\n",
       "      <td>25.16%</td>\n",
       "      <td>LA</td>\n",
       "      <td>MORTGAGE</td>\n",
       "      <td>3750.00</td>\n",
       "      <td>750-754</td>\n",
       "      <td>13</td>\n",
       "      <td>7283</td>\n",
       "      <td>0</td>\n",
       "      <td>6 years</td>\n",
       "      <td>testdata</td>\n",
       "    </tr>\n",
       "    <tr>\n",
       "      <th>3</th>\n",
       "      <td>81822</td>\n",
       "      <td>7200</td>\n",
       "      <td>7200</td>\n",
       "      <td>36 months</td>\n",
       "      <td>debt_consolidation</td>\n",
       "      <td>17.27%</td>\n",
       "      <td>NY</td>\n",
       "      <td>MORTGAGE</td>\n",
       "      <td>3416.67</td>\n",
       "      <td>790-794</td>\n",
       "      <td>14</td>\n",
       "      <td>4838</td>\n",
       "      <td>0</td>\n",
       "      <td>10+ years</td>\n",
       "      <td>testdata</td>\n",
       "    </tr>\n",
       "    <tr>\n",
       "      <th>4</th>\n",
       "      <td>57923</td>\n",
       "      <td>22000</td>\n",
       "      <td>22000</td>\n",
       "      <td>60 months</td>\n",
       "      <td>debt_consolidation</td>\n",
       "      <td>18.28%</td>\n",
       "      <td>MI</td>\n",
       "      <td>MORTGAGE</td>\n",
       "      <td>6083.33</td>\n",
       "      <td>720-724</td>\n",
       "      <td>9</td>\n",
       "      <td>20181</td>\n",
       "      <td>0</td>\n",
       "      <td>8 years</td>\n",
       "      <td>testdata</td>\n",
       "    </tr>\n",
       "  </tbody>\n",
       "</table>\n",
       "</div>"
      ],
      "text/plain": [
       "      ID  Amount.Requested Amount.Funded.By.Investors Loan.Length  \\\n",
       "0  20093              5000                       5000   60 months   \n",
       "1  62445             18000                      18000   60 months   \n",
       "2  65248              7200                       7200   60 months   \n",
       "3  81822              7200                       7200   36 months   \n",
       "4  57923             22000                      22000   60 months   \n",
       "\n",
       "         Loan.Purpose Debt.To.Income.Ratio State Home.Ownership  \\\n",
       "0              moving               12.59%    NY           RENT   \n",
       "1  debt_consolidation                4.93%    CA           RENT   \n",
       "2  debt_consolidation               25.16%    LA       MORTGAGE   \n",
       "3  debt_consolidation               17.27%    NY       MORTGAGE   \n",
       "4  debt_consolidation               18.28%    MI       MORTGAGE   \n",
       "\n",
       "   Monthly.Income FICO.Range Open.CREDIT.Lines  Revolving.CREDIT.Balance  \\\n",
       "0         4416.67    690-694                13                      7686   \n",
       "1         5258.50    710-714                 6                     11596   \n",
       "2         3750.00    750-754                13                      7283   \n",
       "3         3416.67    790-794                14                      4838   \n",
       "4         6083.33    720-724                 9                     20181   \n",
       "\n",
       "   Inquiries.in.the.Last.6.Months Employment.Length Interest.Rate  \n",
       "0                               0          < 1 year      testdata  \n",
       "1                               0         10+ years      testdata  \n",
       "2                               0           6 years      testdata  \n",
       "3                               0         10+ years      testdata  \n",
       "4                               0           8 years      testdata  "
      ]
     },
     "execution_count": 8,
     "metadata": {},
     "output_type": "execute_result"
    }
   ],
   "source": [
    "td['Interest.Rate']='testdata'\n",
    "td.head()"
   ]
  },
  {
   "cell_type": "code",
   "execution_count": 9,
   "id": "27667b44",
   "metadata": {},
   "outputs": [
    {
     "data": {
      "text/html": [
       "<div>\n",
       "<style scoped>\n",
       "    .dataframe tbody tr th:only-of-type {\n",
       "        vertical-align: middle;\n",
       "    }\n",
       "\n",
       "    .dataframe tbody tr th {\n",
       "        vertical-align: top;\n",
       "    }\n",
       "\n",
       "    .dataframe thead th {\n",
       "        text-align: right;\n",
       "    }\n",
       "</style>\n",
       "<table border=\"1\" class=\"dataframe\">\n",
       "  <thead>\n",
       "    <tr style=\"text-align: right;\">\n",
       "      <th></th>\n",
       "      <th>ID</th>\n",
       "      <th>Amount.Requested</th>\n",
       "      <th>Amount.Funded.By.Investors</th>\n",
       "      <th>Interest.Rate</th>\n",
       "      <th>Loan.Length</th>\n",
       "      <th>Loan.Purpose</th>\n",
       "      <th>Debt.To.Income.Ratio</th>\n",
       "      <th>State</th>\n",
       "      <th>Home.Ownership</th>\n",
       "      <th>Monthly.Income</th>\n",
       "      <th>FICO.Range</th>\n",
       "      <th>Open.CREDIT.Lines</th>\n",
       "      <th>Revolving.CREDIT.Balance</th>\n",
       "      <th>Inquiries.in.the.Last.6.Months</th>\n",
       "      <th>Employment.Length</th>\n",
       "    </tr>\n",
       "  </thead>\n",
       "  <tbody>\n",
       "    <tr>\n",
       "      <th>0</th>\n",
       "      <td>79542.0</td>\n",
       "      <td>25000</td>\n",
       "      <td>25000</td>\n",
       "      <td>18.49%</td>\n",
       "      <td>60 months</td>\n",
       "      <td>debt_consolidation</td>\n",
       "      <td>27.56%</td>\n",
       "      <td>VA</td>\n",
       "      <td>MORTGAGE</td>\n",
       "      <td>8606.56</td>\n",
       "      <td>720-724</td>\n",
       "      <td>11</td>\n",
       "      <td>15210</td>\n",
       "      <td>3.0</td>\n",
       "      <td>5 years</td>\n",
       "    </tr>\n",
       "    <tr>\n",
       "      <th>1</th>\n",
       "      <td>75473.0</td>\n",
       "      <td>19750</td>\n",
       "      <td>19750</td>\n",
       "      <td>17.27%</td>\n",
       "      <td>60 months</td>\n",
       "      <td>debt_consolidation</td>\n",
       "      <td>13.39%</td>\n",
       "      <td>NY</td>\n",
       "      <td>MORTGAGE</td>\n",
       "      <td>6737.50</td>\n",
       "      <td>710-714</td>\n",
       "      <td>14</td>\n",
       "      <td>19070</td>\n",
       "      <td>3.0</td>\n",
       "      <td>4 years</td>\n",
       "    </tr>\n",
       "    <tr>\n",
       "      <th>2</th>\n",
       "      <td>67265.0</td>\n",
       "      <td>2100</td>\n",
       "      <td>2100</td>\n",
       "      <td>14.33%</td>\n",
       "      <td>36 months</td>\n",
       "      <td>major_purchase</td>\n",
       "      <td>3.50%</td>\n",
       "      <td>LA</td>\n",
       "      <td>OWN</td>\n",
       "      <td>1000.00</td>\n",
       "      <td>690-694</td>\n",
       "      <td>13</td>\n",
       "      <td>893</td>\n",
       "      <td>1.0</td>\n",
       "      <td>&lt; 1 year</td>\n",
       "    </tr>\n",
       "    <tr>\n",
       "      <th>3</th>\n",
       "      <td>80167.0</td>\n",
       "      <td>28000</td>\n",
       "      <td>28000</td>\n",
       "      <td>16.29%</td>\n",
       "      <td>36 months</td>\n",
       "      <td>credit_card</td>\n",
       "      <td>19.62%</td>\n",
       "      <td>NV</td>\n",
       "      <td>MORTGAGE</td>\n",
       "      <td>7083.33</td>\n",
       "      <td>710-714</td>\n",
       "      <td>12</td>\n",
       "      <td>38194</td>\n",
       "      <td>1.0</td>\n",
       "      <td>10+ years</td>\n",
       "    </tr>\n",
       "    <tr>\n",
       "      <th>4</th>\n",
       "      <td>17240.0</td>\n",
       "      <td>24250</td>\n",
       "      <td>17431.82</td>\n",
       "      <td>12.23%</td>\n",
       "      <td>60 months</td>\n",
       "      <td>credit_card</td>\n",
       "      <td>23.79%</td>\n",
       "      <td>OH</td>\n",
       "      <td>MORTGAGE</td>\n",
       "      <td>5833.33</td>\n",
       "      <td>730-734</td>\n",
       "      <td>6</td>\n",
       "      <td>31061</td>\n",
       "      <td>2.0</td>\n",
       "      <td>10+ years</td>\n",
       "    </tr>\n",
       "  </tbody>\n",
       "</table>\n",
       "</div>"
      ],
      "text/plain": [
       "        ID Amount.Requested Amount.Funded.By.Investors Interest.Rate  \\\n",
       "0  79542.0            25000                      25000        18.49%   \n",
       "1  75473.0            19750                      19750        17.27%   \n",
       "2  67265.0             2100                       2100        14.33%   \n",
       "3  80167.0            28000                      28000        16.29%   \n",
       "4  17240.0            24250                   17431.82        12.23%   \n",
       "\n",
       "  Loan.Length        Loan.Purpose Debt.To.Income.Ratio State Home.Ownership  \\\n",
       "0   60 months  debt_consolidation               27.56%    VA       MORTGAGE   \n",
       "1   60 months  debt_consolidation               13.39%    NY       MORTGAGE   \n",
       "2   36 months      major_purchase                3.50%    LA            OWN   \n",
       "3   36 months         credit_card               19.62%    NV       MORTGAGE   \n",
       "4   60 months         credit_card               23.79%    OH       MORTGAGE   \n",
       "\n",
       "   Monthly.Income FICO.Range Open.CREDIT.Lines Revolving.CREDIT.Balance  \\\n",
       "0         8606.56    720-724                11                    15210   \n",
       "1         6737.50    710-714                14                    19070   \n",
       "2         1000.00    690-694                13                      893   \n",
       "3         7083.33    710-714                12                    38194   \n",
       "4         5833.33    730-734                 6                    31061   \n",
       "\n",
       "   Inquiries.in.the.Last.6.Months Employment.Length  \n",
       "0                             3.0           5 years  \n",
       "1                             3.0           4 years  \n",
       "2                             1.0          < 1 year  \n",
       "3                             1.0         10+ years  \n",
       "4                             2.0         10+ years  "
      ]
     },
     "execution_count": 9,
     "metadata": {},
     "output_type": "execute_result"
    }
   ],
   "source": [
    "df=pd.concat((df,td))\n",
    "df.head()"
   ]
  },
  {
   "cell_type": "code",
   "execution_count": 10,
   "id": "043ed545",
   "metadata": {},
   "outputs": [
    {
     "data": {
      "text/plain": [
       "(2500, 15)"
      ]
     },
     "execution_count": 10,
     "metadata": {},
     "output_type": "execute_result"
    }
   ],
   "source": [
    "df.shape"
   ]
  },
  {
   "cell_type": "markdown",
   "id": "00d00d1f",
   "metadata": {},
   "source": [
    "### Exploratory Data Analysis"
   ]
  },
  {
   "cell_type": "markdown",
   "id": "8c591707",
   "metadata": {},
   "source": [
    "#### Replace the . with _ in column names"
   ]
  },
  {
   "cell_type": "code",
   "execution_count": 11,
   "id": "1c751f42",
   "metadata": {},
   "outputs": [],
   "source": [
    "df.columns=df.columns.str.replace('.','_')"
   ]
  },
  {
   "cell_type": "code",
   "execution_count": 12,
   "id": "eba3fd7e",
   "metadata": {},
   "outputs": [
    {
     "data": {
      "text/html": [
       "<div>\n",
       "<style scoped>\n",
       "    .dataframe tbody tr th:only-of-type {\n",
       "        vertical-align: middle;\n",
       "    }\n",
       "\n",
       "    .dataframe tbody tr th {\n",
       "        vertical-align: top;\n",
       "    }\n",
       "\n",
       "    .dataframe thead th {\n",
       "        text-align: right;\n",
       "    }\n",
       "</style>\n",
       "<table border=\"1\" class=\"dataframe\">\n",
       "  <thead>\n",
       "    <tr style=\"text-align: right;\">\n",
       "      <th></th>\n",
       "      <th>ID</th>\n",
       "      <th>Amount_Requested</th>\n",
       "      <th>Amount_Funded_By_Investors</th>\n",
       "      <th>Interest_Rate</th>\n",
       "      <th>Loan_Length</th>\n",
       "      <th>Loan_Purpose</th>\n",
       "      <th>Debt_To_Income_Ratio</th>\n",
       "      <th>State</th>\n",
       "      <th>Home_Ownership</th>\n",
       "      <th>Monthly_Income</th>\n",
       "      <th>FICO_Range</th>\n",
       "      <th>Open_CREDIT_Lines</th>\n",
       "      <th>Revolving_CREDIT_Balance</th>\n",
       "      <th>Inquiries_in_the_Last_6_Months</th>\n",
       "      <th>Employment_Length</th>\n",
       "    </tr>\n",
       "  </thead>\n",
       "  <tbody>\n",
       "    <tr>\n",
       "      <th>0</th>\n",
       "      <td>79542.0</td>\n",
       "      <td>25000</td>\n",
       "      <td>25000</td>\n",
       "      <td>18.49%</td>\n",
       "      <td>60 months</td>\n",
       "      <td>debt_consolidation</td>\n",
       "      <td>27.56%</td>\n",
       "      <td>VA</td>\n",
       "      <td>MORTGAGE</td>\n",
       "      <td>8606.56</td>\n",
       "      <td>720-724</td>\n",
       "      <td>11</td>\n",
       "      <td>15210</td>\n",
       "      <td>3.0</td>\n",
       "      <td>5 years</td>\n",
       "    </tr>\n",
       "    <tr>\n",
       "      <th>1</th>\n",
       "      <td>75473.0</td>\n",
       "      <td>19750</td>\n",
       "      <td>19750</td>\n",
       "      <td>17.27%</td>\n",
       "      <td>60 months</td>\n",
       "      <td>debt_consolidation</td>\n",
       "      <td>13.39%</td>\n",
       "      <td>NY</td>\n",
       "      <td>MORTGAGE</td>\n",
       "      <td>6737.50</td>\n",
       "      <td>710-714</td>\n",
       "      <td>14</td>\n",
       "      <td>19070</td>\n",
       "      <td>3.0</td>\n",
       "      <td>4 years</td>\n",
       "    </tr>\n",
       "    <tr>\n",
       "      <th>2</th>\n",
       "      <td>67265.0</td>\n",
       "      <td>2100</td>\n",
       "      <td>2100</td>\n",
       "      <td>14.33%</td>\n",
       "      <td>36 months</td>\n",
       "      <td>major_purchase</td>\n",
       "      <td>3.50%</td>\n",
       "      <td>LA</td>\n",
       "      <td>OWN</td>\n",
       "      <td>1000.00</td>\n",
       "      <td>690-694</td>\n",
       "      <td>13</td>\n",
       "      <td>893</td>\n",
       "      <td>1.0</td>\n",
       "      <td>&lt; 1 year</td>\n",
       "    </tr>\n",
       "    <tr>\n",
       "      <th>3</th>\n",
       "      <td>80167.0</td>\n",
       "      <td>28000</td>\n",
       "      <td>28000</td>\n",
       "      <td>16.29%</td>\n",
       "      <td>36 months</td>\n",
       "      <td>credit_card</td>\n",
       "      <td>19.62%</td>\n",
       "      <td>NV</td>\n",
       "      <td>MORTGAGE</td>\n",
       "      <td>7083.33</td>\n",
       "      <td>710-714</td>\n",
       "      <td>12</td>\n",
       "      <td>38194</td>\n",
       "      <td>1.0</td>\n",
       "      <td>10+ years</td>\n",
       "    </tr>\n",
       "    <tr>\n",
       "      <th>4</th>\n",
       "      <td>17240.0</td>\n",
       "      <td>24250</td>\n",
       "      <td>17431.82</td>\n",
       "      <td>12.23%</td>\n",
       "      <td>60 months</td>\n",
       "      <td>credit_card</td>\n",
       "      <td>23.79%</td>\n",
       "      <td>OH</td>\n",
       "      <td>MORTGAGE</td>\n",
       "      <td>5833.33</td>\n",
       "      <td>730-734</td>\n",
       "      <td>6</td>\n",
       "      <td>31061</td>\n",
       "      <td>2.0</td>\n",
       "      <td>10+ years</td>\n",
       "    </tr>\n",
       "  </tbody>\n",
       "</table>\n",
       "</div>"
      ],
      "text/plain": [
       "        ID Amount_Requested Amount_Funded_By_Investors Interest_Rate  \\\n",
       "0  79542.0            25000                      25000        18.49%   \n",
       "1  75473.0            19750                      19750        17.27%   \n",
       "2  67265.0             2100                       2100        14.33%   \n",
       "3  80167.0            28000                      28000        16.29%   \n",
       "4  17240.0            24250                   17431.82        12.23%   \n",
       "\n",
       "  Loan_Length        Loan_Purpose Debt_To_Income_Ratio State Home_Ownership  \\\n",
       "0   60 months  debt_consolidation               27.56%    VA       MORTGAGE   \n",
       "1   60 months  debt_consolidation               13.39%    NY       MORTGAGE   \n",
       "2   36 months      major_purchase                3.50%    LA            OWN   \n",
       "3   36 months         credit_card               19.62%    NV       MORTGAGE   \n",
       "4   60 months         credit_card               23.79%    OH       MORTGAGE   \n",
       "\n",
       "   Monthly_Income FICO_Range Open_CREDIT_Lines Revolving_CREDIT_Balance  \\\n",
       "0         8606.56    720-724                11                    15210   \n",
       "1         6737.50    710-714                14                    19070   \n",
       "2         1000.00    690-694                13                      893   \n",
       "3         7083.33    710-714                12                    38194   \n",
       "4         5833.33    730-734                 6                    31061   \n",
       "\n",
       "   Inquiries_in_the_Last_6_Months Employment_Length  \n",
       "0                             3.0           5 years  \n",
       "1                             3.0           4 years  \n",
       "2                             1.0          < 1 year  \n",
       "3                             1.0         10+ years  \n",
       "4                             2.0         10+ years  "
      ]
     },
     "execution_count": 12,
     "metadata": {},
     "output_type": "execute_result"
    }
   ],
   "source": [
    "df.head()"
   ]
  },
  {
   "cell_type": "markdown",
   "id": "aeacdc10",
   "metadata": {},
   "source": [
    "#### Drop ID column since it is insignificant"
   ]
  },
  {
   "cell_type": "code",
   "execution_count": 13,
   "id": "437a069f",
   "metadata": {},
   "outputs": [],
   "source": [
    "df.drop('ID',axis=1,inplace=True)"
   ]
  },
  {
   "cell_type": "markdown",
   "id": "082640a7",
   "metadata": {},
   "source": [
    "### Segregate the true numeric and true object columns"
   ]
  },
  {
   "cell_type": "code",
   "execution_count": 14,
   "id": "4e22fba9",
   "metadata": {},
   "outputs": [
    {
     "data": {
      "text/plain": [
       "Amount_Requested                   object\n",
       "Amount_Funded_By_Investors         object\n",
       "Interest_Rate                      object\n",
       "Loan_Length                        object\n",
       "Loan_Purpose                       object\n",
       "Debt_To_Income_Ratio               object\n",
       "State                              object\n",
       "Home_Ownership                     object\n",
       "Monthly_Income                    float64\n",
       "FICO_Range                         object\n",
       "Open_CREDIT_Lines                  object\n",
       "Revolving_CREDIT_Balance           object\n",
       "Inquiries_in_the_Last_6_Months    float64\n",
       "Employment_Length                  object\n",
       "dtype: object"
      ]
     },
     "execution_count": 14,
     "metadata": {},
     "output_type": "execute_result"
    }
   ],
   "source": [
    "df.dtypes"
   ]
  },
  {
   "cell_type": "markdown",
   "id": "43dd9ef9",
   "metadata": {},
   "source": [
    "#### Amount_Requested "
   ]
  },
  {
   "cell_type": "code",
   "execution_count": 15,
   "id": "a1b2e24e",
   "metadata": {},
   "outputs": [],
   "source": [
    "df.loc[df.Amount_Requested=='.','Amount_Requested']=np.nan"
   ]
  },
  {
   "cell_type": "code",
   "execution_count": 16,
   "id": "ed0adaa7",
   "metadata": {},
   "outputs": [],
   "source": [
    "df.Amount_Requested =df.Amount_Requested.astype(float)"
   ]
  },
  {
   "cell_type": "markdown",
   "id": "b2ccce6d",
   "metadata": {},
   "source": [
    "#### Amount_Funded_By_Investors"
   ]
  },
  {
   "cell_type": "code",
   "execution_count": 17,
   "id": "7496702a",
   "metadata": {},
   "outputs": [
    {
     "data": {
      "text/html": [
       "<div>\n",
       "<style scoped>\n",
       "    .dataframe tbody tr th:only-of-type {\n",
       "        vertical-align: middle;\n",
       "    }\n",
       "\n",
       "    .dataframe tbody tr th {\n",
       "        vertical-align: top;\n",
       "    }\n",
       "\n",
       "    .dataframe thead th {\n",
       "        text-align: right;\n",
       "    }\n",
       "</style>\n",
       "<table border=\"1\" class=\"dataframe\">\n",
       "  <thead>\n",
       "    <tr style=\"text-align: right;\">\n",
       "      <th></th>\n",
       "      <th>Amount_Requested</th>\n",
       "      <th>Amount_Funded_By_Investors</th>\n",
       "      <th>Interest_Rate</th>\n",
       "      <th>Loan_Length</th>\n",
       "      <th>Loan_Purpose</th>\n",
       "      <th>Debt_To_Income_Ratio</th>\n",
       "      <th>State</th>\n",
       "      <th>Home_Ownership</th>\n",
       "      <th>Monthly_Income</th>\n",
       "      <th>FICO_Range</th>\n",
       "      <th>Open_CREDIT_Lines</th>\n",
       "      <th>Revolving_CREDIT_Balance</th>\n",
       "      <th>Inquiries_in_the_Last_6_Months</th>\n",
       "      <th>Employment_Length</th>\n",
       "    </tr>\n",
       "  </thead>\n",
       "  <tbody>\n",
       "    <tr>\n",
       "      <th>110</th>\n",
       "      <td>3000.0</td>\n",
       "      <td>.</td>\n",
       "      <td>17.44%</td>\n",
       "      <td>36 months</td>\n",
       "      <td>other</td>\n",
       "      <td>15.79%</td>\n",
       "      <td>MD</td>\n",
       "      <td>RENT</td>\n",
       "      <td>7952.0</td>\n",
       "      <td>660-664</td>\n",
       "      <td>4</td>\n",
       "      <td>12578</td>\n",
       "      <td>0.0</td>\n",
       "      <td>8 years</td>\n",
       "    </tr>\n",
       "    <tr>\n",
       "      <th>1091</th>\n",
       "      <td>1000.0</td>\n",
       "      <td>.</td>\n",
       "      <td>13.16%</td>\n",
       "      <td>36 months</td>\n",
       "      <td>other</td>\n",
       "      <td>19.63%</td>\n",
       "      <td>MI</td>\n",
       "      <td>RENT</td>\n",
       "      <td>3500.0</td>\n",
       "      <td>670-674</td>\n",
       "      <td>9</td>\n",
       "      <td>11189</td>\n",
       "      <td>2.0</td>\n",
       "      <td>2 years</td>\n",
       "    </tr>\n",
       "    <tr>\n",
       "      <th>1983</th>\n",
       "      <td>3000.0</td>\n",
       "      <td>.</td>\n",
       "      <td>8.59%</td>\n",
       "      <td>36 months</td>\n",
       "      <td>other</td>\n",
       "      <td>3.72%</td>\n",
       "      <td>MA</td>\n",
       "      <td>MORTGAGE</td>\n",
       "      <td>4167.0</td>\n",
       "      <td>765-769</td>\n",
       "      <td>4</td>\n",
       "      <td>7074</td>\n",
       "      <td>0.0</td>\n",
       "      <td>5 years</td>\n",
       "    </tr>\n",
       "    <tr>\n",
       "      <th>5</th>\n",
       "      <td>6000.0</td>\n",
       "      <td>.</td>\n",
       "      <td>testdata</td>\n",
       "      <td>36 months</td>\n",
       "      <td>home_improvement</td>\n",
       "      <td>2.52%</td>\n",
       "      <td>NJ</td>\n",
       "      <td>MORTGAGE</td>\n",
       "      <td>4800.0</td>\n",
       "      <td>750-754</td>\n",
       "      <td>.</td>\n",
       "      <td>1442</td>\n",
       "      <td>0.0</td>\n",
       "      <td>10+ years</td>\n",
       "    </tr>\n",
       "  </tbody>\n",
       "</table>\n",
       "</div>"
      ],
      "text/plain": [
       "      Amount_Requested Amount_Funded_By_Investors Interest_Rate Loan_Length  \\\n",
       "110             3000.0                          .        17.44%   36 months   \n",
       "1091            1000.0                          .        13.16%   36 months   \n",
       "1983            3000.0                          .         8.59%   36 months   \n",
       "5               6000.0                          .      testdata   36 months   \n",
       "\n",
       "          Loan_Purpose Debt_To_Income_Ratio State Home_Ownership  \\\n",
       "110              other               15.79%    MD           RENT   \n",
       "1091             other               19.63%    MI           RENT   \n",
       "1983             other                3.72%    MA       MORTGAGE   \n",
       "5     home_improvement                2.52%    NJ       MORTGAGE   \n",
       "\n",
       "      Monthly_Income FICO_Range Open_CREDIT_Lines Revolving_CREDIT_Balance  \\\n",
       "110           7952.0    660-664                 4                    12578   \n",
       "1091          3500.0    670-674                 9                    11189   \n",
       "1983          4167.0    765-769                 4                     7074   \n",
       "5             4800.0    750-754                 .                     1442   \n",
       "\n",
       "      Inquiries_in_the_Last_6_Months Employment_Length  \n",
       "110                              0.0           8 years  \n",
       "1091                             2.0           2 years  \n",
       "1983                             0.0           5 years  \n",
       "5                                0.0         10+ years  "
      ]
     },
     "execution_count": 17,
     "metadata": {},
     "output_type": "execute_result"
    }
   ],
   "source": [
    "df.loc[df.Amount_Funded_By_Investors=='.']"
   ]
  },
  {
   "cell_type": "code",
   "execution_count": 18,
   "id": "bd5943b7",
   "metadata": {},
   "outputs": [],
   "source": [
    "df.Amount_Funded_By_Investors=pd.to_numeric(df.Amount_Funded_By_Investors,errors='coerce')"
   ]
  },
  {
   "cell_type": "markdown",
   "id": "fe0e039e",
   "metadata": {},
   "source": [
    "#### Interest_Rate"
   ]
  },
  {
   "cell_type": "markdown",
   "id": "0818a680",
   "metadata": {},
   "source": [
    "#### Remove the '%' and let it be object"
   ]
  },
  {
   "cell_type": "code",
   "execution_count": 19,
   "id": "79e79774",
   "metadata": {},
   "outputs": [],
   "source": [
    "df.Interest_Rate.replace('%','',regex=True,inplace=True)"
   ]
  },
  {
   "cell_type": "markdown",
   "id": "207476f2",
   "metadata": {},
   "source": [
    "#### Loan Length"
   ]
  },
  {
   "cell_type": "code",
   "execution_count": 20,
   "id": "af15e6a5",
   "metadata": {},
   "outputs": [],
   "source": [
    "import re"
   ]
  },
  {
   "cell_type": "code",
   "execution_count": 21,
   "id": "da631902",
   "metadata": {},
   "outputs": [],
   "source": [
    "df.Loan_Length.replace(r'[a-zA-Z ]','',regex=True,inplace=True)"
   ]
  },
  {
   "cell_type": "code",
   "execution_count": 22,
   "id": "20a4ebd7",
   "metadata": {},
   "outputs": [],
   "source": [
    "df.loc[df.Loan_Length=='.','Loan_Length']=np.nan"
   ]
  },
  {
   "cell_type": "code",
   "execution_count": 23,
   "id": "e8bf324f",
   "metadata": {},
   "outputs": [],
   "source": [
    "df.Loan_Length=df.Loan_Length.astype(float)"
   ]
  },
  {
   "cell_type": "markdown",
   "id": "ec097188",
   "metadata": {},
   "source": [
    "#### Debt_To_Income_Ratio"
   ]
  },
  {
   "cell_type": "code",
   "execution_count": 24,
   "id": "ec234dcd",
   "metadata": {},
   "outputs": [],
   "source": [
    "df.Debt_To_Income_Ratio=df.Debt_To_Income_Ratio.replace('%','',regex=True).astype(float)"
   ]
  },
  {
   "cell_type": "markdown",
   "id": "563b6ab5",
   "metadata": {},
   "source": [
    "#### FICO_Range"
   ]
  },
  {
   "cell_type": "code",
   "execution_count": 25,
   "id": "1aafd8f8",
   "metadata": {},
   "outputs": [
    {
     "data": {
      "text/plain": [
       "0      [720, 724]\n",
       "1      [710, 714]\n",
       "2      [690, 694]\n",
       "3      [710, 714]\n",
       "4      [730, 734]\n",
       "          ...    \n",
       "295    [705, 709]\n",
       "296    [705, 709]\n",
       "297    [670, 674]\n",
       "298    [675, 679]\n",
       "299    [675, 679]\n",
       "Name: FICO_Range, Length: 2500, dtype: object"
      ]
     },
     "execution_count": 25,
     "metadata": {},
     "output_type": "execute_result"
    }
   ],
   "source": [
    "s=df.FICO_Range.apply(lambda x:x.split('-'))\n",
    "s"
   ]
  },
  {
   "cell_type": "code",
   "execution_count": 26,
   "id": "fa2dfef3",
   "metadata": {},
   "outputs": [
    {
     "data": {
      "text/plain": [
       "0      722.0\n",
       "1      712.0\n",
       "2      692.0\n",
       "3      712.0\n",
       "4      732.0\n",
       "       ...  \n",
       "295    707.0\n",
       "296    707.0\n",
       "297    672.0\n",
       "298    677.0\n",
       "299    677.0\n",
       "Name: FICO_Range, Length: 2500, dtype: float64"
      ]
     },
     "execution_count": 26,
     "metadata": {},
     "output_type": "execute_result"
    }
   ],
   "source": [
    "s=s.apply(lambda x:(int(x[0])+int(x[1]))/2)\n",
    "s"
   ]
  },
  {
   "cell_type": "code",
   "execution_count": 27,
   "id": "c032277f",
   "metadata": {},
   "outputs": [],
   "source": [
    "df.FICO_Range=s"
   ]
  },
  {
   "cell_type": "code",
   "execution_count": 28,
   "id": "8411da54",
   "metadata": {},
   "outputs": [
    {
     "data": {
      "text/html": [
       "<div>\n",
       "<style scoped>\n",
       "    .dataframe tbody tr th:only-of-type {\n",
       "        vertical-align: middle;\n",
       "    }\n",
       "\n",
       "    .dataframe tbody tr th {\n",
       "        vertical-align: top;\n",
       "    }\n",
       "\n",
       "    .dataframe thead th {\n",
       "        text-align: right;\n",
       "    }\n",
       "</style>\n",
       "<table border=\"1\" class=\"dataframe\">\n",
       "  <thead>\n",
       "    <tr style=\"text-align: right;\">\n",
       "      <th></th>\n",
       "      <th>Amount_Requested</th>\n",
       "      <th>Amount_Funded_By_Investors</th>\n",
       "      <th>Interest_Rate</th>\n",
       "      <th>Loan_Length</th>\n",
       "      <th>Loan_Purpose</th>\n",
       "      <th>Debt_To_Income_Ratio</th>\n",
       "      <th>State</th>\n",
       "      <th>Home_Ownership</th>\n",
       "      <th>Monthly_Income</th>\n",
       "      <th>FICO_Range</th>\n",
       "      <th>Open_CREDIT_Lines</th>\n",
       "      <th>Revolving_CREDIT_Balance</th>\n",
       "      <th>Inquiries_in_the_Last_6_Months</th>\n",
       "      <th>Employment_Length</th>\n",
       "    </tr>\n",
       "  </thead>\n",
       "  <tbody>\n",
       "    <tr>\n",
       "      <th>0</th>\n",
       "      <td>25000.0</td>\n",
       "      <td>25000.00</td>\n",
       "      <td>18.49</td>\n",
       "      <td>60.0</td>\n",
       "      <td>debt_consolidation</td>\n",
       "      <td>27.56</td>\n",
       "      <td>VA</td>\n",
       "      <td>MORTGAGE</td>\n",
       "      <td>8606.56</td>\n",
       "      <td>722.0</td>\n",
       "      <td>11</td>\n",
       "      <td>15210</td>\n",
       "      <td>3.0</td>\n",
       "      <td>5 years</td>\n",
       "    </tr>\n",
       "    <tr>\n",
       "      <th>1</th>\n",
       "      <td>19750.0</td>\n",
       "      <td>19750.00</td>\n",
       "      <td>17.27</td>\n",
       "      <td>60.0</td>\n",
       "      <td>debt_consolidation</td>\n",
       "      <td>13.39</td>\n",
       "      <td>NY</td>\n",
       "      <td>MORTGAGE</td>\n",
       "      <td>6737.50</td>\n",
       "      <td>712.0</td>\n",
       "      <td>14</td>\n",
       "      <td>19070</td>\n",
       "      <td>3.0</td>\n",
       "      <td>4 years</td>\n",
       "    </tr>\n",
       "    <tr>\n",
       "      <th>2</th>\n",
       "      <td>2100.0</td>\n",
       "      <td>2100.00</td>\n",
       "      <td>14.33</td>\n",
       "      <td>36.0</td>\n",
       "      <td>major_purchase</td>\n",
       "      <td>3.50</td>\n",
       "      <td>LA</td>\n",
       "      <td>OWN</td>\n",
       "      <td>1000.00</td>\n",
       "      <td>692.0</td>\n",
       "      <td>13</td>\n",
       "      <td>893</td>\n",
       "      <td>1.0</td>\n",
       "      <td>&lt; 1 year</td>\n",
       "    </tr>\n",
       "    <tr>\n",
       "      <th>3</th>\n",
       "      <td>28000.0</td>\n",
       "      <td>28000.00</td>\n",
       "      <td>16.29</td>\n",
       "      <td>36.0</td>\n",
       "      <td>credit_card</td>\n",
       "      <td>19.62</td>\n",
       "      <td>NV</td>\n",
       "      <td>MORTGAGE</td>\n",
       "      <td>7083.33</td>\n",
       "      <td>712.0</td>\n",
       "      <td>12</td>\n",
       "      <td>38194</td>\n",
       "      <td>1.0</td>\n",
       "      <td>10+ years</td>\n",
       "    </tr>\n",
       "    <tr>\n",
       "      <th>4</th>\n",
       "      <td>24250.0</td>\n",
       "      <td>17431.82</td>\n",
       "      <td>12.23</td>\n",
       "      <td>60.0</td>\n",
       "      <td>credit_card</td>\n",
       "      <td>23.79</td>\n",
       "      <td>OH</td>\n",
       "      <td>MORTGAGE</td>\n",
       "      <td>5833.33</td>\n",
       "      <td>732.0</td>\n",
       "      <td>6</td>\n",
       "      <td>31061</td>\n",
       "      <td>2.0</td>\n",
       "      <td>10+ years</td>\n",
       "    </tr>\n",
       "  </tbody>\n",
       "</table>\n",
       "</div>"
      ],
      "text/plain": [
       "   Amount_Requested  Amount_Funded_By_Investors Interest_Rate  Loan_Length  \\\n",
       "0           25000.0                    25000.00         18.49         60.0   \n",
       "1           19750.0                    19750.00         17.27         60.0   \n",
       "2            2100.0                     2100.00         14.33         36.0   \n",
       "3           28000.0                    28000.00         16.29         36.0   \n",
       "4           24250.0                    17431.82         12.23         60.0   \n",
       "\n",
       "         Loan_Purpose  Debt_To_Income_Ratio State Home_Ownership  \\\n",
       "0  debt_consolidation                 27.56    VA       MORTGAGE   \n",
       "1  debt_consolidation                 13.39    NY       MORTGAGE   \n",
       "2      major_purchase                  3.50    LA            OWN   \n",
       "3         credit_card                 19.62    NV       MORTGAGE   \n",
       "4         credit_card                 23.79    OH       MORTGAGE   \n",
       "\n",
       "   Monthly_Income  FICO_Range Open_CREDIT_Lines Revolving_CREDIT_Balance  \\\n",
       "0         8606.56       722.0                11                    15210   \n",
       "1         6737.50       712.0                14                    19070   \n",
       "2         1000.00       692.0                13                      893   \n",
       "3         7083.33       712.0                12                    38194   \n",
       "4         5833.33       732.0                 6                    31061   \n",
       "\n",
       "   Inquiries_in_the_Last_6_Months Employment_Length  \n",
       "0                             3.0           5 years  \n",
       "1                             3.0           4 years  \n",
       "2                             1.0          < 1 year  \n",
       "3                             1.0         10+ years  \n",
       "4                             2.0         10+ years  "
      ]
     },
     "execution_count": 28,
     "metadata": {},
     "output_type": "execute_result"
    }
   ],
   "source": [
    "df.head()"
   ]
  },
  {
   "cell_type": "markdown",
   "id": "9246c1b6",
   "metadata": {},
   "source": [
    "#### Revolving_Credit_Balance"
   ]
  },
  {
   "cell_type": "code",
   "execution_count": 29,
   "id": "6965d8bd",
   "metadata": {},
   "outputs": [],
   "source": [
    "df.Revolving_CREDIT_Balance=pd.to_numeric(df.Revolving_CREDIT_Balance,errors='coerce')"
   ]
  },
  {
   "cell_type": "markdown",
   "id": "92217baa",
   "metadata": {},
   "source": [
    "#### Employment_Length"
   ]
  },
  {
   "cell_type": "code",
   "execution_count": 30,
   "id": "04f17138",
   "metadata": {},
   "outputs": [
    {
     "data": {
      "text/plain": [
       "10+ years    653\n",
       "< 1 year     249\n",
       "2 years      243\n",
       "3 years      235\n",
       "5 years      202\n",
       "4 years      191\n",
       "1 year       177\n",
       "6 years      163\n",
       "7 years      127\n",
       "8 years      108\n",
       "9 years       72\n",
       ".              2\n",
       "Name: Employment_Length, dtype: int64"
      ]
     },
     "execution_count": 30,
     "metadata": {},
     "output_type": "execute_result"
    }
   ],
   "source": [
    "df.Employment_Length.value_counts()"
   ]
  },
  {
   "cell_type": "code",
   "execution_count": 31,
   "id": "5bb696de",
   "metadata": {},
   "outputs": [
    {
     "data": {
      "text/plain": [
       "10    653\n",
       "<1    249\n",
       "2     243\n",
       "3     235\n",
       "5     202\n",
       "4     191\n",
       "1     177\n",
       "6     163\n",
       "7     127\n",
       "8     108\n",
       "9      72\n",
       ".       2\n",
       "Name: Employment_Length, dtype: int64"
      ]
     },
     "execution_count": 31,
     "metadata": {},
     "output_type": "execute_result"
    }
   ],
   "source": [
    "s=df.Employment_Length.replace(r'[a-z +]','',regex=True)\n",
    "s.value_counts()"
   ]
  },
  {
   "cell_type": "code",
   "execution_count": 32,
   "id": "40d145c7",
   "metadata": {},
   "outputs": [],
   "source": [
    "s[s=='<1']=.5"
   ]
  },
  {
   "cell_type": "code",
   "execution_count": 33,
   "id": "1d8dff6c",
   "metadata": {},
   "outputs": [],
   "source": [
    "s[s=='.']=np.nan"
   ]
  },
  {
   "cell_type": "code",
   "execution_count": 34,
   "id": "34f46ed7",
   "metadata": {},
   "outputs": [],
   "source": [
    "s=s.astype(float)"
   ]
  },
  {
   "cell_type": "code",
   "execution_count": 35,
   "id": "c32673b8",
   "metadata": {},
   "outputs": [],
   "source": [
    "df.Employment_Length=s"
   ]
  },
  {
   "cell_type": "markdown",
   "id": "1393ed23",
   "metadata": {},
   "source": [
    "#### Open_CREDIT_Lines"
   ]
  },
  {
   "cell_type": "code",
   "execution_count": 36,
   "id": "ae5b82fd",
   "metadata": {},
   "outputs": [],
   "source": [
    "df.Open_CREDIT_Lines=pd.to_numeric(df.Open_CREDIT_Lines,errors='coerce')"
   ]
  },
  {
   "cell_type": "code",
   "execution_count": 37,
   "id": "76a3250e",
   "metadata": {},
   "outputs": [
    {
     "data": {
      "text/plain": [
       "Amount_Requested                  float64\n",
       "Amount_Funded_By_Investors        float64\n",
       "Interest_Rate                      object\n",
       "Loan_Length                       float64\n",
       "Loan_Purpose                       object\n",
       "Debt_To_Income_Ratio              float64\n",
       "State                              object\n",
       "Home_Ownership                     object\n",
       "Monthly_Income                    float64\n",
       "FICO_Range                        float64\n",
       "Open_CREDIT_Lines                 float64\n",
       "Revolving_CREDIT_Balance          float64\n",
       "Inquiries_in_the_Last_6_Months    float64\n",
       "Employment_Length                 float64\n",
       "dtype: object"
      ]
     },
     "execution_count": 37,
     "metadata": {},
     "output_type": "execute_result"
    }
   ],
   "source": [
    "df.dtypes"
   ]
  },
  {
   "cell_type": "markdown",
   "id": "336cda45",
   "metadata": {},
   "source": [
    "### Missing Values"
   ]
  },
  {
   "cell_type": "code",
   "execution_count": 38,
   "id": "23ef3531",
   "metadata": {},
   "outputs": [
    {
     "data": {
      "text/plain": [
       "Amount_Requested                   5\n",
       "Amount_Funded_By_Investors         5\n",
       "Interest_Rate                      0\n",
       "Loan_Length                        2\n",
       "Loan_Purpose                       1\n",
       "Debt_To_Income_Ratio               1\n",
       "State                              1\n",
       "Home_Ownership                     1\n",
       "Monthly_Income                     3\n",
       "FICO_Range                         0\n",
       "Open_CREDIT_Lines                  9\n",
       "Revolving_CREDIT_Balance           5\n",
       "Inquiries_in_the_Last_6_Months     3\n",
       "Employment_Length                 80\n",
       "dtype: int64"
      ]
     },
     "execution_count": 38,
     "metadata": {},
     "output_type": "execute_result"
    }
   ],
   "source": [
    "df.isna().sum()"
   ]
  },
  {
   "cell_type": "code",
   "execution_count": 39,
   "id": "d2cfa004",
   "metadata": {},
   "outputs": [],
   "source": [
    "df.dropna(inplace=True)"
   ]
  },
  {
   "cell_type": "code",
   "execution_count": 40,
   "id": "ca3d9ee4",
   "metadata": {},
   "outputs": [
    {
     "data": {
      "text/plain": [
       "(2392, 14)"
      ]
     },
     "execution_count": 40,
     "metadata": {},
     "output_type": "execute_result"
    }
   ],
   "source": [
    "df.shape"
   ]
  },
  {
   "cell_type": "markdown",
   "id": "28b64088",
   "metadata": {},
   "source": [
    "#### Outliers"
   ]
  },
  {
   "cell_type": "code",
   "execution_count": 41,
   "id": "99418064",
   "metadata": {},
   "outputs": [],
   "source": [
    "num_cols=[]\n",
    "for i in df:\n",
    "    if df[i].dtype!=object and df[i].nunique()>5:\n",
    "        num_cols.append(i)"
   ]
  },
  {
   "cell_type": "code",
   "execution_count": 42,
   "id": "cf353263",
   "metadata": {},
   "outputs": [
    {
     "data": {
      "text/plain": [
       "['Amount_Requested',\n",
       " 'Amount_Funded_By_Investors',\n",
       " 'Debt_To_Income_Ratio',\n",
       " 'Monthly_Income',\n",
       " 'FICO_Range',\n",
       " 'Open_CREDIT_Lines',\n",
       " 'Revolving_CREDIT_Balance',\n",
       " 'Inquiries_in_the_Last_6_Months',\n",
       " 'Employment_Length']"
      ]
     },
     "execution_count": 42,
     "metadata": {},
     "output_type": "execute_result"
    }
   ],
   "source": [
    "num_cols"
   ]
  },
  {
   "cell_type": "code",
   "execution_count": 43,
   "id": "a89afbf0",
   "metadata": {},
   "outputs": [
    {
     "data": {
      "image/png": "[encoded data removed]",
      "text/plain": [
       "<Figure size 1800x1200 with 6 Axes>"
      ]
     },
     "metadata": {},
     "output_type": "display_data"
    }
   ],
   "source": [
    "f,a=plt.subplots(2,3,figsize=(18,12),dpi=100)\n",
    "ind=0\n",
    "\n",
    "for i in range(2):\n",
    "    for j in range(3):\n",
    "        sns.boxplot(y=df[num_cols[ind]],ax=a[i,j])\n",
    "        ind+=1\n",
    "plt.tight_layout()\n",
    "plt.show()"
   ]
  },
  {
   "cell_type": "code",
   "execution_count": 44,
   "id": "49833340",
   "metadata": {},
   "outputs": [],
   "source": [
    "def out_cap(col):\n",
    "    q3=df[col].quantile(0.75)\n",
    "    q1=df[col].quantile(0.25)\n",
    "    \n",
    "    iqr=q3-q1\n",
    "    \n",
    "    upper=q3+1.5*iqr\n",
    "    lower=q1-1.5*iqr\n",
    "    \n",
    "    df[col].clip(lower,upper,inplace=True)"
   ]
  },
  {
   "cell_type": "code",
   "execution_count": 45,
   "id": "a49bee47",
   "metadata": {},
   "outputs": [],
   "source": [
    "for i in num_cols:\n",
    "    out_cap(i)"
   ]
  },
  {
   "cell_type": "code",
   "execution_count": 46,
   "id": "166006b6",
   "metadata": {},
   "outputs": [
    {
     "data": {
      "image/png": "[encoded data removed]",
      "text/plain": [
       "<Figure size 1800x1200 with 6 Axes>"
      ]
     },
     "metadata": {},
     "output_type": "display_data"
    }
   ],
   "source": [
    "f,a=plt.subplots(2,3,figsize=(18,12),dpi=100)\n",
    "ind=0\n",
    "\n",
    "for i in range(2):\n",
    "    for j in range(3):\n",
    "        sns.boxplot(y=df[num_cols[ind]],ax=a[i,j])\n",
    "        ind+=1\n",
    "plt.tight_layout()\n",
    "plt.show()"
   ]
  },
  {
   "cell_type": "markdown",
   "id": "2223b0a7",
   "metadata": {},
   "source": [
    "### Drop the insignificant columns"
   ]
  },
  {
   "cell_type": "code",
   "execution_count": 47,
   "id": "69322f14",
   "metadata": {},
   "outputs": [],
   "source": [
    "df.drop(['State'],axis=1,inplace=True)"
   ]
  },
  {
   "cell_type": "markdown",
   "id": "42eb44d5",
   "metadata": {},
   "source": [
    "### Identify the categorical columns"
   ]
  },
  {
   "cell_type": "code",
   "execution_count": 48,
   "id": "467b6a12",
   "metadata": {},
   "outputs": [],
   "source": [
    "cat_cols=[]\n",
    "for i in df:\n",
    "    if i not in num_cols and i!='Interest_Rate':\n",
    "        cat_cols.append(i)"
   ]
  },
  {
   "cell_type": "code",
   "execution_count": 49,
   "id": "549139d8",
   "metadata": {},
   "outputs": [
    {
     "data": {
      "text/plain": [
       "['Loan_Length', 'Loan_Purpose', 'Home_Ownership']"
      ]
     },
     "execution_count": 49,
     "metadata": {},
     "output_type": "execute_result"
    }
   ],
   "source": [
    "cat_cols"
   ]
  },
  {
   "cell_type": "code",
   "execution_count": 50,
   "id": "f96021db",
   "metadata": {},
   "outputs": [
    {
     "data": {
      "text/plain": [
       "Amount_Requested                  float64\n",
       "Amount_Funded_By_Investors        float64\n",
       "Interest_Rate                      object\n",
       "Loan_Length                       float64\n",
       "Loan_Purpose                       object\n",
       "Debt_To_Income_Ratio              float64\n",
       "Home_Ownership                     object\n",
       "Monthly_Income                    float64\n",
       "FICO_Range                        float64\n",
       "Open_CREDIT_Lines                 float64\n",
       "Revolving_CREDIT_Balance          float64\n",
       "Inquiries_in_the_Last_6_Months    float64\n",
       "Employment_Length                 float64\n",
       "dtype: object"
      ]
     },
     "execution_count": 50,
     "metadata": {},
     "output_type": "execute_result"
    }
   ],
   "source": [
    "df.dtypes"
   ]
  },
  {
   "cell_type": "markdown",
   "id": "4aa99442",
   "metadata": {},
   "source": [
    "### Encoding"
   ]
  },
  {
   "cell_type": "code",
   "execution_count": 51,
   "id": "6866d9b0",
   "metadata": {},
   "outputs": [
    {
     "data": {
      "text/plain": [
       "debt_consolidation    1260\n",
       "credit_card            426\n",
       "other                  182\n",
       "home_improvement       143\n",
       "major_purchase          98\n",
       "small_business          82\n",
       "car                     49\n",
       "wedding                 38\n",
       "moving                  28\n",
       "medical                 28\n",
       "house                   20\n",
       "vacation                20\n",
       "educational             14\n",
       "renewable_energy         4\n",
       "Name: Loan_Purpose, dtype: int64"
      ]
     },
     "execution_count": 51,
     "metadata": {},
     "output_type": "execute_result"
    }
   ],
   "source": [
    "df['Loan_Purpose'].value_counts()"
   ]
  },
  {
   "cell_type": "code",
   "execution_count": 52,
   "id": "d0c00c87",
   "metadata": {},
   "outputs": [],
   "source": [
    "df.Loan_Purpose.replace(dict.fromkeys(df.Loan_Purpose.value_counts()[3:].index,'major_purchase'),inplace=True)"
   ]
  },
  {
   "cell_type": "code",
   "execution_count": 53,
   "id": "f4ee53f9",
   "metadata": {},
   "outputs": [
    {
     "data": {
      "text/plain": [
       "debt_consolidation    1260\n",
       "major_purchase         524\n",
       "credit_card            426\n",
       "other                  182\n",
       "Name: Loan_Purpose, dtype: int64"
      ]
     },
     "execution_count": 53,
     "metadata": {},
     "output_type": "execute_result"
    }
   ],
   "source": [
    "df['Loan_Purpose'].value_counts()"
   ]
  },
  {
   "cell_type": "code",
   "execution_count": 54,
   "id": "f50f6f2b",
   "metadata": {},
   "outputs": [],
   "source": [
    "df['Loan_Purpose']=df['Loan_Purpose'].astype('category')\n",
    "df['Loan_Purpose']=df['Loan_Purpose'].cat.codes"
   ]
  },
  {
   "cell_type": "code",
   "execution_count": 55,
   "id": "3add6498",
   "metadata": {},
   "outputs": [
    {
     "data": {
      "text/plain": [
       "1    1260\n",
       "2     524\n",
       "0     426\n",
       "3     182\n",
       "Name: Loan_Purpose, dtype: int64"
      ]
     },
     "execution_count": 55,
     "metadata": {},
     "output_type": "execute_result"
    }
   ],
   "source": [
    "df['Loan_Purpose'].value_counts()"
   ]
  },
  {
   "cell_type": "code",
   "execution_count": 56,
   "id": "a043bb9f",
   "metadata": {},
   "outputs": [
    {
     "data": {
      "text/plain": [
       "RENT        1104\n",
       "MORTGAGE    1096\n",
       "OWN          187\n",
       "OTHER          5\n",
       "Name: Home_Ownership, dtype: int64"
      ]
     },
     "execution_count": 56,
     "metadata": {},
     "output_type": "execute_result"
    }
   ],
   "source": [
    "df['Home_Ownership'].value_counts()"
   ]
  },
  {
   "cell_type": "code",
   "execution_count": 57,
   "id": "372c76a0",
   "metadata": {},
   "outputs": [],
   "source": [
    "df['Home_Ownership'].replace('OTHER','OWN',inplace=True)"
   ]
  },
  {
   "cell_type": "code",
   "execution_count": 58,
   "id": "a1865510",
   "metadata": {},
   "outputs": [
    {
     "data": {
      "text/plain": [
       "RENT        1104\n",
       "MORTGAGE    1096\n",
       "OWN          192\n",
       "Name: Home_Ownership, dtype: int64"
      ]
     },
     "execution_count": 58,
     "metadata": {},
     "output_type": "execute_result"
    }
   ],
   "source": [
    "df['Home_Ownership'].value_counts()"
   ]
  },
  {
   "cell_type": "code",
   "execution_count": 59,
   "id": "ba4af2c2",
   "metadata": {},
   "outputs": [],
   "source": [
    "df['Home_Ownership']=df['Home_Ownership'].astype('category')\n",
    "df['Home_Ownership']=df['Home_Ownership'].cat.codes"
   ]
  },
  {
   "cell_type": "code",
   "execution_count": 60,
   "id": "133d06ea",
   "metadata": {},
   "outputs": [
    {
     "data": {
      "text/plain": [
       "2    1104\n",
       "0    1096\n",
       "1     192\n",
       "Name: Home_Ownership, dtype: int64"
      ]
     },
     "execution_count": 60,
     "metadata": {},
     "output_type": "execute_result"
    }
   ],
   "source": [
    "df['Home_Ownership'].value_counts()"
   ]
  },
  {
   "cell_type": "code",
   "execution_count": 61,
   "id": "6aef46d8",
   "metadata": {},
   "outputs": [],
   "source": [
    "df['Loan_Length']=df['Loan_Length'].astype(float)"
   ]
  },
  {
   "cell_type": "code",
   "execution_count": 62,
   "id": "21fe4f60",
   "metadata": {},
   "outputs": [
    {
     "data": {
      "text/plain": [
       "Amount_Requested                  float64\n",
       "Amount_Funded_By_Investors        float64\n",
       "Interest_Rate                      object\n",
       "Loan_Length                       float64\n",
       "Loan_Purpose                         int8\n",
       "Debt_To_Income_Ratio              float64\n",
       "Home_Ownership                       int8\n",
       "Monthly_Income                    float64\n",
       "FICO_Range                        float64\n",
       "Open_CREDIT_Lines                 float64\n",
       "Revolving_CREDIT_Balance          float64\n",
       "Inquiries_in_the_Last_6_Months    float64\n",
       "Employment_Length                 float64\n",
       "dtype: object"
      ]
     },
     "execution_count": 62,
     "metadata": {},
     "output_type": "execute_result"
    }
   ],
   "source": [
    "df.dtypes"
   ]
  },
  {
   "cell_type": "markdown",
   "id": "7a44698d",
   "metadata": {},
   "source": [
    "### Split the train and test data"
   ]
  },
  {
   "cell_type": "code",
   "execution_count": 63,
   "id": "b35bd321",
   "metadata": {},
   "outputs": [
    {
     "data": {
      "text/plain": [
       "testdata    288\n",
       "12.12       110\n",
       "7.90        102\n",
       "13.11       102\n",
       "15.31        61\n",
       "           ... \n",
       "17.54         1\n",
       "18.29         1\n",
       "19.47         1\n",
       "14.79         1\n",
       "19.41         1\n",
       "Name: Interest_Rate, Length: 261, dtype: int64"
      ]
     },
     "execution_count": 63,
     "metadata": {},
     "output_type": "execute_result"
    }
   ],
   "source": [
    "df.Interest_Rate.value_counts()"
   ]
  },
  {
   "cell_type": "code",
   "execution_count": 64,
   "id": "db304ddf",
   "metadata": {},
   "outputs": [],
   "source": [
    "test=df[df.Interest_Rate=='testdata']"
   ]
  },
  {
   "cell_type": "code",
   "execution_count": 65,
   "id": "9b52eda0",
   "metadata": {},
   "outputs": [],
   "source": [
    "test=test.drop('Interest_Rate',axis=1)"
   ]
  },
  {
   "cell_type": "code",
   "execution_count": 66,
   "id": "7cc6bc9f",
   "metadata": {},
   "outputs": [
    {
     "data": {
      "text/html": [
       "<div>\n",
       "<style scoped>\n",
       "    .dataframe tbody tr th:only-of-type {\n",
       "        vertical-align: middle;\n",
       "    }\n",
       "\n",
       "    .dataframe tbody tr th {\n",
       "        vertical-align: top;\n",
       "    }\n",
       "\n",
       "    .dataframe thead th {\n",
       "        text-align: right;\n",
       "    }\n",
       "</style>\n",
       "<table border=\"1\" class=\"dataframe\">\n",
       "  <thead>\n",
       "    <tr style=\"text-align: right;\">\n",
       "      <th></th>\n",
       "      <th>Amount_Requested</th>\n",
       "      <th>Amount_Funded_By_Investors</th>\n",
       "      <th>Loan_Length</th>\n",
       "      <th>Loan_Purpose</th>\n",
       "      <th>Debt_To_Income_Ratio</th>\n",
       "      <th>Home_Ownership</th>\n",
       "      <th>Monthly_Income</th>\n",
       "      <th>FICO_Range</th>\n",
       "      <th>Open_CREDIT_Lines</th>\n",
       "      <th>Revolving_CREDIT_Balance</th>\n",
       "      <th>Inquiries_in_the_Last_6_Months</th>\n",
       "      <th>Employment_Length</th>\n",
       "    </tr>\n",
       "  </thead>\n",
       "  <tbody>\n",
       "    <tr>\n",
       "      <th>0</th>\n",
       "      <td>5000.0</td>\n",
       "      <td>5000.0</td>\n",
       "      <td>60.0</td>\n",
       "      <td>2</td>\n",
       "      <td>12.59</td>\n",
       "      <td>2</td>\n",
       "      <td>4416.67</td>\n",
       "      <td>692.0</td>\n",
       "      <td>13.0</td>\n",
       "      <td>7686.0</td>\n",
       "      <td>0.0</td>\n",
       "      <td>0.5</td>\n",
       "    </tr>\n",
       "    <tr>\n",
       "      <th>1</th>\n",
       "      <td>18000.0</td>\n",
       "      <td>18000.0</td>\n",
       "      <td>60.0</td>\n",
       "      <td>1</td>\n",
       "      <td>4.93</td>\n",
       "      <td>2</td>\n",
       "      <td>5258.50</td>\n",
       "      <td>712.0</td>\n",
       "      <td>6.0</td>\n",
       "      <td>11596.0</td>\n",
       "      <td>0.0</td>\n",
       "      <td>10.0</td>\n",
       "    </tr>\n",
       "    <tr>\n",
       "      <th>2</th>\n",
       "      <td>7200.0</td>\n",
       "      <td>7200.0</td>\n",
       "      <td>60.0</td>\n",
       "      <td>1</td>\n",
       "      <td>25.16</td>\n",
       "      <td>0</td>\n",
       "      <td>3750.00</td>\n",
       "      <td>752.0</td>\n",
       "      <td>13.0</td>\n",
       "      <td>7283.0</td>\n",
       "      <td>0.0</td>\n",
       "      <td>6.0</td>\n",
       "    </tr>\n",
       "    <tr>\n",
       "      <th>3</th>\n",
       "      <td>7200.0</td>\n",
       "      <td>7200.0</td>\n",
       "      <td>36.0</td>\n",
       "      <td>1</td>\n",
       "      <td>17.27</td>\n",
       "      <td>0</td>\n",
       "      <td>3416.67</td>\n",
       "      <td>792.0</td>\n",
       "      <td>14.0</td>\n",
       "      <td>4838.0</td>\n",
       "      <td>0.0</td>\n",
       "      <td>10.0</td>\n",
       "    </tr>\n",
       "    <tr>\n",
       "      <th>4</th>\n",
       "      <td>22000.0</td>\n",
       "      <td>22000.0</td>\n",
       "      <td>60.0</td>\n",
       "      <td>1</td>\n",
       "      <td>18.28</td>\n",
       "      <td>0</td>\n",
       "      <td>6083.33</td>\n",
       "      <td>722.0</td>\n",
       "      <td>9.0</td>\n",
       "      <td>20181.0</td>\n",
       "      <td>0.0</td>\n",
       "      <td>8.0</td>\n",
       "    </tr>\n",
       "  </tbody>\n",
       "</table>\n",
       "</div>"
      ],
      "text/plain": [
       "   Amount_Requested  Amount_Funded_By_Investors  Loan_Length  Loan_Purpose  \\\n",
       "0            5000.0                      5000.0         60.0             2   \n",
       "1           18000.0                     18000.0         60.0             1   \n",
       "2            7200.0                      7200.0         60.0             1   \n",
       "3            7200.0                      7200.0         36.0             1   \n",
       "4           22000.0                     22000.0         60.0             1   \n",
       "\n",
       "   Debt_To_Income_Ratio  Home_Ownership  Monthly_Income  FICO_Range  \\\n",
       "0                 12.59               2         4416.67       692.0   \n",
       "1                  4.93               2         5258.50       712.0   \n",
       "2                 25.16               0         3750.00       752.0   \n",
       "3                 17.27               0         3416.67       792.0   \n",
       "4                 18.28               0         6083.33       722.0   \n",
       "\n",
       "   Open_CREDIT_Lines  Revolving_CREDIT_Balance  \\\n",
       "0               13.0                    7686.0   \n",
       "1                6.0                   11596.0   \n",
       "2               13.0                    7283.0   \n",
       "3               14.0                    4838.0   \n",
       "4                9.0                   20181.0   \n",
       "\n",
       "   Inquiries_in_the_Last_6_Months  Employment_Length  \n",
       "0                             0.0                0.5  \n",
       "1                             0.0               10.0  \n",
       "2                             0.0                6.0  \n",
       "3                             0.0               10.0  \n",
       "4                             0.0                8.0  "
      ]
     },
     "execution_count": 66,
     "metadata": {},
     "output_type": "execute_result"
    }
   ],
   "source": [
    "test.head()"
   ]
  },
  {
   "cell_type": "code",
   "execution_count": 67,
   "id": "c10e927e",
   "metadata": {},
   "outputs": [],
   "source": [
    "train=df[df.Interest_Rate!='testdata']"
   ]
  },
  {
   "cell_type": "code",
   "execution_count": 68,
   "id": "4f6ac64f",
   "metadata": {},
   "outputs": [
    {
     "data": {
      "text/html": [
       "<div>\n",
       "<style scoped>\n",
       "    .dataframe tbody tr th:only-of-type {\n",
       "        vertical-align: middle;\n",
       "    }\n",
       "\n",
       "    .dataframe tbody tr th {\n",
       "        vertical-align: top;\n",
       "    }\n",
       "\n",
       "    .dataframe thead th {\n",
       "        text-align: right;\n",
       "    }\n",
       "</style>\n",
       "<table border=\"1\" class=\"dataframe\">\n",
       "  <thead>\n",
       "    <tr style=\"text-align: right;\">\n",
       "      <th></th>\n",
       "      <th>Amount_Requested</th>\n",
       "      <th>Amount_Funded_By_Investors</th>\n",
       "      <th>Interest_Rate</th>\n",
       "      <th>Loan_Length</th>\n",
       "      <th>Loan_Purpose</th>\n",
       "      <th>Debt_To_Income_Ratio</th>\n",
       "      <th>Home_Ownership</th>\n",
       "      <th>Monthly_Income</th>\n",
       "      <th>FICO_Range</th>\n",
       "      <th>Open_CREDIT_Lines</th>\n",
       "      <th>Revolving_CREDIT_Balance</th>\n",
       "      <th>Inquiries_in_the_Last_6_Months</th>\n",
       "      <th>Employment_Length</th>\n",
       "    </tr>\n",
       "  </thead>\n",
       "  <tbody>\n",
       "    <tr>\n",
       "      <th>0</th>\n",
       "      <td>25000.0</td>\n",
       "      <td>25000.00</td>\n",
       "      <td>18.49</td>\n",
       "      <td>60.0</td>\n",
       "      <td>1</td>\n",
       "      <td>27.56</td>\n",
       "      <td>0</td>\n",
       "      <td>8606.56</td>\n",
       "      <td>722.0</td>\n",
       "      <td>11.0</td>\n",
       "      <td>15210.0</td>\n",
       "      <td>2.5</td>\n",
       "      <td>5.0</td>\n",
       "    </tr>\n",
       "    <tr>\n",
       "      <th>1</th>\n",
       "      <td>19750.0</td>\n",
       "      <td>19750.00</td>\n",
       "      <td>17.27</td>\n",
       "      <td>60.0</td>\n",
       "      <td>1</td>\n",
       "      <td>13.39</td>\n",
       "      <td>0</td>\n",
       "      <td>6737.50</td>\n",
       "      <td>712.0</td>\n",
       "      <td>14.0</td>\n",
       "      <td>19070.0</td>\n",
       "      <td>2.5</td>\n",
       "      <td>4.0</td>\n",
       "    </tr>\n",
       "    <tr>\n",
       "      <th>2</th>\n",
       "      <td>2100.0</td>\n",
       "      <td>2100.00</td>\n",
       "      <td>14.33</td>\n",
       "      <td>36.0</td>\n",
       "      <td>2</td>\n",
       "      <td>3.50</td>\n",
       "      <td>1</td>\n",
       "      <td>1000.00</td>\n",
       "      <td>692.0</td>\n",
       "      <td>13.0</td>\n",
       "      <td>893.0</td>\n",
       "      <td>1.0</td>\n",
       "      <td>0.5</td>\n",
       "    </tr>\n",
       "    <tr>\n",
       "      <th>3</th>\n",
       "      <td>28000.0</td>\n",
       "      <td>28000.00</td>\n",
       "      <td>16.29</td>\n",
       "      <td>36.0</td>\n",
       "      <td>0</td>\n",
       "      <td>19.62</td>\n",
       "      <td>0</td>\n",
       "      <td>7083.33</td>\n",
       "      <td>712.0</td>\n",
       "      <td>12.0</td>\n",
       "      <td>38194.0</td>\n",
       "      <td>1.0</td>\n",
       "      <td>10.0</td>\n",
       "    </tr>\n",
       "    <tr>\n",
       "      <th>4</th>\n",
       "      <td>24250.0</td>\n",
       "      <td>17431.82</td>\n",
       "      <td>12.23</td>\n",
       "      <td>60.0</td>\n",
       "      <td>0</td>\n",
       "      <td>23.79</td>\n",
       "      <td>0</td>\n",
       "      <td>5833.33</td>\n",
       "      <td>732.0</td>\n",
       "      <td>6.0</td>\n",
       "      <td>31061.0</td>\n",
       "      <td>2.0</td>\n",
       "      <td>10.0</td>\n",
       "    </tr>\n",
       "  </tbody>\n",
       "</table>\n",
       "</div>"
      ],
      "text/plain": [
       "   Amount_Requested  Amount_Funded_By_Investors Interest_Rate  Loan_Length  \\\n",
       "0           25000.0                    25000.00         18.49         60.0   \n",
       "1           19750.0                    19750.00         17.27         60.0   \n",
       "2            2100.0                     2100.00         14.33         36.0   \n",
       "3           28000.0                    28000.00         16.29         36.0   \n",
       "4           24250.0                    17431.82         12.23         60.0   \n",
       "\n",
       "   Loan_Purpose  Debt_To_Income_Ratio  Home_Ownership  Monthly_Income  \\\n",
       "0             1                 27.56               0         8606.56   \n",
       "1             1                 13.39               0         6737.50   \n",
       "2             2                  3.50               1         1000.00   \n",
       "3             0                 19.62               0         7083.33   \n",
       "4             0                 23.79               0         5833.33   \n",
       "\n",
       "   FICO_Range  Open_CREDIT_Lines  Revolving_CREDIT_Balance  \\\n",
       "0       722.0               11.0                   15210.0   \n",
       "1       712.0               14.0                   19070.0   \n",
       "2       692.0               13.0                     893.0   \n",
       "3       712.0               12.0                   38194.0   \n",
       "4       732.0                6.0                   31061.0   \n",
       "\n",
       "   Inquiries_in_the_Last_6_Months  Employment_Length  \n",
       "0                             2.5                5.0  \n",
       "1                             2.5                4.0  \n",
       "2                             1.0                0.5  \n",
       "3                             1.0               10.0  \n",
       "4                             2.0               10.0  "
      ]
     },
     "execution_count": 68,
     "metadata": {},
     "output_type": "execute_result"
    }
   ],
   "source": [
    "train.head()"
   ]
  },
  {
   "cell_type": "code",
   "execution_count": 69,
   "id": "bfd0e8e9",
   "metadata": {},
   "outputs": [],
   "source": [
    "train.Interest_Rate=train.Interest_Rate.astype(float)"
   ]
  },
  {
   "cell_type": "code",
   "execution_count": 70,
   "id": "53797fcb",
   "metadata": {},
   "outputs": [
    {
     "data": {
      "text/plain": [
       "Amount_Requested                  float64\n",
       "Amount_Funded_By_Investors        float64\n",
       "Interest_Rate                     float64\n",
       "Loan_Length                       float64\n",
       "Loan_Purpose                         int8\n",
       "Debt_To_Income_Ratio              float64\n",
       "Home_Ownership                       int8\n",
       "Monthly_Income                    float64\n",
       "FICO_Range                        float64\n",
       "Open_CREDIT_Lines                 float64\n",
       "Revolving_CREDIT_Balance          float64\n",
       "Inquiries_in_the_Last_6_Months    float64\n",
       "Employment_Length                 float64\n",
       "dtype: object"
      ]
     },
     "execution_count": 70,
     "metadata": {},
     "output_type": "execute_result"
    }
   ],
   "source": [
    "train.dtypes"
   ]
  },
  {
   "cell_type": "markdown",
   "id": "6c7cdddd",
   "metadata": {},
   "source": [
    "###  Split the training data into features and target"
   ]
  },
  {
   "cell_type": "code",
   "execution_count": 71,
   "id": "bffc69a7",
   "metadata": {},
   "outputs": [],
   "source": [
    "features=train.drop('Interest_Rate',axis=1)"
   ]
  },
  {
   "cell_type": "code",
   "execution_count": 72,
   "id": "e73bf82d",
   "metadata": {},
   "outputs": [
    {
     "data": {
      "text/html": [
       "<div>\n",
       "<style scoped>\n",
       "    .dataframe tbody tr th:only-of-type {\n",
       "        vertical-align: middle;\n",
       "    }\n",
       "\n",
       "    .dataframe tbody tr th {\n",
       "        vertical-align: top;\n",
       "    }\n",
       "\n",
       "    .dataframe thead th {\n",
       "        text-align: right;\n",
       "    }\n",
       "</style>\n",
       "<table border=\"1\" class=\"dataframe\">\n",
       "  <thead>\n",
       "    <tr style=\"text-align: right;\">\n",
       "      <th></th>\n",
       "      <th>Amount_Requested</th>\n",
       "      <th>Amount_Funded_By_Investors</th>\n",
       "      <th>Loan_Length</th>\n",
       "      <th>Loan_Purpose</th>\n",
       "      <th>Debt_To_Income_Ratio</th>\n",
       "      <th>Home_Ownership</th>\n",
       "      <th>Monthly_Income</th>\n",
       "      <th>FICO_Range</th>\n",
       "      <th>Open_CREDIT_Lines</th>\n",
       "      <th>Revolving_CREDIT_Balance</th>\n",
       "      <th>Inquiries_in_the_Last_6_Months</th>\n",
       "      <th>Employment_Length</th>\n",
       "    </tr>\n",
       "  </thead>\n",
       "  <tbody>\n",
       "    <tr>\n",
       "      <th>0</th>\n",
       "      <td>25000.0</td>\n",
       "      <td>25000.00</td>\n",
       "      <td>60.0</td>\n",
       "      <td>1</td>\n",
       "      <td>27.56</td>\n",
       "      <td>0</td>\n",
       "      <td>8606.56</td>\n",
       "      <td>722.0</td>\n",
       "      <td>11.0</td>\n",
       "      <td>15210.000</td>\n",
       "      <td>2.5</td>\n",
       "      <td>5.0</td>\n",
       "    </tr>\n",
       "    <tr>\n",
       "      <th>1</th>\n",
       "      <td>19750.0</td>\n",
       "      <td>19750.00</td>\n",
       "      <td>60.0</td>\n",
       "      <td>1</td>\n",
       "      <td>13.39</td>\n",
       "      <td>0</td>\n",
       "      <td>6737.50</td>\n",
       "      <td>712.0</td>\n",
       "      <td>14.0</td>\n",
       "      <td>19070.000</td>\n",
       "      <td>2.5</td>\n",
       "      <td>4.0</td>\n",
       "    </tr>\n",
       "    <tr>\n",
       "      <th>2</th>\n",
       "      <td>2100.0</td>\n",
       "      <td>2100.00</td>\n",
       "      <td>36.0</td>\n",
       "      <td>2</td>\n",
       "      <td>3.50</td>\n",
       "      <td>1</td>\n",
       "      <td>1000.00</td>\n",
       "      <td>692.0</td>\n",
       "      <td>13.0</td>\n",
       "      <td>893.000</td>\n",
       "      <td>1.0</td>\n",
       "      <td>0.5</td>\n",
       "    </tr>\n",
       "    <tr>\n",
       "      <th>3</th>\n",
       "      <td>28000.0</td>\n",
       "      <td>28000.00</td>\n",
       "      <td>36.0</td>\n",
       "      <td>0</td>\n",
       "      <td>19.62</td>\n",
       "      <td>0</td>\n",
       "      <td>7083.33</td>\n",
       "      <td>712.0</td>\n",
       "      <td>12.0</td>\n",
       "      <td>38194.000</td>\n",
       "      <td>1.0</td>\n",
       "      <td>10.0</td>\n",
       "    </tr>\n",
       "    <tr>\n",
       "      <th>4</th>\n",
       "      <td>24250.0</td>\n",
       "      <td>17431.82</td>\n",
       "      <td>60.0</td>\n",
       "      <td>0</td>\n",
       "      <td>23.79</td>\n",
       "      <td>0</td>\n",
       "      <td>5833.33</td>\n",
       "      <td>732.0</td>\n",
       "      <td>6.0</td>\n",
       "      <td>31061.000</td>\n",
       "      <td>2.0</td>\n",
       "      <td>10.0</td>\n",
       "    </tr>\n",
       "    <tr>\n",
       "      <th>...</th>\n",
       "      <td>...</td>\n",
       "      <td>...</td>\n",
       "      <td>...</td>\n",
       "      <td>...</td>\n",
       "      <td>...</td>\n",
       "      <td>...</td>\n",
       "      <td>...</td>\n",
       "      <td>...</td>\n",
       "      <td>...</td>\n",
       "      <td>...</td>\n",
       "      <td>...</td>\n",
       "      <td>...</td>\n",
       "    </tr>\n",
       "    <tr>\n",
       "      <th>2195</th>\n",
       "      <td>30000.0</td>\n",
       "      <td>30000.00</td>\n",
       "      <td>60.0</td>\n",
       "      <td>3</td>\n",
       "      <td>12.10</td>\n",
       "      <td>0</td>\n",
       "      <td>7083.33</td>\n",
       "      <td>677.0</td>\n",
       "      <td>16.0</td>\n",
       "      <td>17969.000</td>\n",
       "      <td>1.0</td>\n",
       "      <td>10.0</td>\n",
       "    </tr>\n",
       "    <tr>\n",
       "      <th>2196</th>\n",
       "      <td>4200.0</td>\n",
       "      <td>4200.00</td>\n",
       "      <td>60.0</td>\n",
       "      <td>2</td>\n",
       "      <td>14.16</td>\n",
       "      <td>2</td>\n",
       "      <td>3850.00</td>\n",
       "      <td>702.0</td>\n",
       "      <td>4.0</td>\n",
       "      <td>5718.000</td>\n",
       "      <td>0.0</td>\n",
       "      <td>2.0</td>\n",
       "    </tr>\n",
       "    <tr>\n",
       "      <th>2197</th>\n",
       "      <td>19800.0</td>\n",
       "      <td>19775.00</td>\n",
       "      <td>60.0</td>\n",
       "      <td>1</td>\n",
       "      <td>15.03</td>\n",
       "      <td>0</td>\n",
       "      <td>6666.67</td>\n",
       "      <td>677.0</td>\n",
       "      <td>10.0</td>\n",
       "      <td>39259.375</td>\n",
       "      <td>2.5</td>\n",
       "      <td>6.0</td>\n",
       "    </tr>\n",
       "    <tr>\n",
       "      <th>2198</th>\n",
       "      <td>18000.0</td>\n",
       "      <td>18000.00</td>\n",
       "      <td>60.0</td>\n",
       "      <td>0</td>\n",
       "      <td>11.63</td>\n",
       "      <td>2</td>\n",
       "      <td>9051.83</td>\n",
       "      <td>672.0</td>\n",
       "      <td>5.0</td>\n",
       "      <td>32394.000</td>\n",
       "      <td>2.0</td>\n",
       "      <td>4.0</td>\n",
       "    </tr>\n",
       "    <tr>\n",
       "      <th>2199</th>\n",
       "      <td>7550.0</td>\n",
       "      <td>7550.00</td>\n",
       "      <td>36.0</td>\n",
       "      <td>1</td>\n",
       "      <td>3.83</td>\n",
       "      <td>0</td>\n",
       "      <td>8333.33</td>\n",
       "      <td>712.0</td>\n",
       "      <td>10.0</td>\n",
       "      <td>10204.000</td>\n",
       "      <td>0.0</td>\n",
       "      <td>2.0</td>\n",
       "    </tr>\n",
       "  </tbody>\n",
       "</table>\n",
       "<p>2104 rows × 12 columns</p>\n",
       "</div>"
      ],
      "text/plain": [
       "      Amount_Requested  Amount_Funded_By_Investors  Loan_Length  Loan_Purpose  \\\n",
       "0              25000.0                    25000.00         60.0             1   \n",
       "1              19750.0                    19750.00         60.0             1   \n",
       "2               2100.0                     2100.00         36.0             2   \n",
       "3              28000.0                    28000.00         36.0             0   \n",
       "4              24250.0                    17431.82         60.0             0   \n",
       "...                ...                         ...          ...           ...   \n",
       "2195           30000.0                    30000.00         60.0             3   \n",
       "2196            4200.0                     4200.00         60.0             2   \n",
       "2197           19800.0                    19775.00         60.0             1   \n",
       "2198           18000.0                    18000.00         60.0             0   \n",
       "2199            7550.0                     7550.00         36.0             1   \n",
       "\n",
       "      Debt_To_Income_Ratio  Home_Ownership  Monthly_Income  FICO_Range  \\\n",
       "0                    27.56               0         8606.56       722.0   \n",
       "1                    13.39               0         6737.50       712.0   \n",
       "2                     3.50               1         1000.00       692.0   \n",
       "3                    19.62               0         7083.33       712.0   \n",
       "4                    23.79               0         5833.33       732.0   \n",
       "...                    ...             ...             ...         ...   \n",
       "2195                 12.10               0         7083.33       677.0   \n",
       "2196                 14.16               2         3850.00       702.0   \n",
       "2197                 15.03               0         6666.67       677.0   \n",
       "2198                 11.63               2         9051.83       672.0   \n",
       "2199                  3.83               0         8333.33       712.0   \n",
       "\n",
       "      Open_CREDIT_Lines  Revolving_CREDIT_Balance  \\\n",
       "0                  11.0                 15210.000   \n",
       "1                  14.0                 19070.000   \n",
       "2                  13.0                   893.000   \n",
       "3                  12.0                 38194.000   \n",
       "4                   6.0                 31061.000   \n",
       "...                 ...                       ...   \n",
       "2195               16.0                 17969.000   \n",
       "2196                4.0                  5718.000   \n",
       "2197               10.0                 39259.375   \n",
       "2198                5.0                 32394.000   \n",
       "2199               10.0                 10204.000   \n",
       "\n",
       "      Inquiries_in_the_Last_6_Months  Employment_Length  \n",
       "0                                2.5                5.0  \n",
       "1                                2.5                4.0  \n",
       "2                                1.0                0.5  \n",
       "3                                1.0               10.0  \n",
       "4                                2.0               10.0  \n",
       "...                              ...                ...  \n",
       "2195                             1.0               10.0  \n",
       "2196                             0.0                2.0  \n",
       "2197                             2.5                6.0  \n",
       "2198                             2.0                4.0  \n",
       "2199                             0.0                2.0  \n",
       "\n",
       "[2104 rows x 12 columns]"
      ]
     },
     "execution_count": 72,
     "metadata": {},
     "output_type": "execute_result"
    }
   ],
   "source": [
    "features"
   ]
  },
  {
   "cell_type": "code",
   "execution_count": 73,
   "id": "bfbc14a0",
   "metadata": {},
   "outputs": [],
   "source": [
    "target=train[['Interest_Rate']]"
   ]
  },
  {
   "cell_type": "code",
   "execution_count": 74,
   "id": "f8c0a81b",
   "metadata": {},
   "outputs": [
    {
     "data": {
      "text/html": [
       "<div>\n",
       "<style scoped>\n",
       "    .dataframe tbody tr th:only-of-type {\n",
       "        vertical-align: middle;\n",
       "    }\n",
       "\n",
       "    .dataframe tbody tr th {\n",
       "        vertical-align: top;\n",
       "    }\n",
       "\n",
       "    .dataframe thead th {\n",
       "        text-align: right;\n",
       "    }\n",
       "</style>\n",
       "<table border=\"1\" class=\"dataframe\">\n",
       "  <thead>\n",
       "    <tr style=\"text-align: right;\">\n",
       "      <th></th>\n",
       "      <th>Interest_Rate</th>\n",
       "    </tr>\n",
       "  </thead>\n",
       "  <tbody>\n",
       "    <tr>\n",
       "      <th>0</th>\n",
       "      <td>18.49</td>\n",
       "    </tr>\n",
       "    <tr>\n",
       "      <th>1</th>\n",
       "      <td>17.27</td>\n",
       "    </tr>\n",
       "    <tr>\n",
       "      <th>2</th>\n",
       "      <td>14.33</td>\n",
       "    </tr>\n",
       "    <tr>\n",
       "      <th>3</th>\n",
       "      <td>16.29</td>\n",
       "    </tr>\n",
       "    <tr>\n",
       "      <th>4</th>\n",
       "      <td>12.23</td>\n",
       "    </tr>\n",
       "    <tr>\n",
       "      <th>...</th>\n",
       "      <td>...</td>\n",
       "    </tr>\n",
       "    <tr>\n",
       "      <th>2195</th>\n",
       "      <td>23.28</td>\n",
       "    </tr>\n",
       "    <tr>\n",
       "      <th>2196</th>\n",
       "      <td>14.33</td>\n",
       "    </tr>\n",
       "    <tr>\n",
       "      <th>2197</th>\n",
       "      <td>15.31</td>\n",
       "    </tr>\n",
       "    <tr>\n",
       "      <th>2198</th>\n",
       "      <td>20.99</td>\n",
       "    </tr>\n",
       "    <tr>\n",
       "      <th>2199</th>\n",
       "      <td>10.16</td>\n",
       "    </tr>\n",
       "  </tbody>\n",
       "</table>\n",
       "<p>2104 rows × 1 columns</p>\n",
       "</div>"
      ],
      "text/plain": [
       "      Interest_Rate\n",
       "0             18.49\n",
       "1             17.27\n",
       "2             14.33\n",
       "3             16.29\n",
       "4             12.23\n",
       "...             ...\n",
       "2195          23.28\n",
       "2196          14.33\n",
       "2197          15.31\n",
       "2198          20.99\n",
       "2199          10.16\n",
       "\n",
       "[2104 rows x 1 columns]"
      ]
     },
     "execution_count": 74,
     "metadata": {},
     "output_type": "execute_result"
    }
   ],
   "source": [
    "target"
   ]
  },
  {
   "cell_type": "code",
   "execution_count": 75,
   "id": "f659c8fb",
   "metadata": {},
   "outputs": [
    {
     "data": {
      "text/plain": [
       "(2104, 12)"
      ]
     },
     "execution_count": 75,
     "metadata": {},
     "output_type": "execute_result"
    }
   ],
   "source": [
    "features.shape"
   ]
  },
  {
   "cell_type": "code",
   "execution_count": 76,
   "id": "38a152b1",
   "metadata": {},
   "outputs": [
    {
     "data": {
      "text/plain": [
       "(2104, 1)"
      ]
     },
     "execution_count": 76,
     "metadata": {},
     "output_type": "execute_result"
    }
   ],
   "source": [
    "target.shape"
   ]
  },
  {
   "cell_type": "markdown",
   "id": "a30f5577",
   "metadata": {},
   "source": [
    "### Have the training and validation data"
   ]
  },
  {
   "cell_type": "code",
   "execution_count": 77,
   "id": "abc4d855",
   "metadata": {},
   "outputs": [],
   "source": [
    "from sklearn.model_selection import train_test_split"
   ]
  },
  {
   "cell_type": "code",
   "execution_count": 78,
   "id": "4e171c2c",
   "metadata": {},
   "outputs": [],
   "source": [
    "x_train,x_val,y_train,y_val=train_test_split(features,target,test_size=0.2,random_state=101)"
   ]
  },
  {
   "cell_type": "code",
   "execution_count": 79,
   "id": "177c2d6e",
   "metadata": {},
   "outputs": [
    {
     "data": {
      "text/plain": [
       "(1683, 12)"
      ]
     },
     "execution_count": 79,
     "metadata": {},
     "output_type": "execute_result"
    }
   ],
   "source": [
    "x_train.shape"
   ]
  },
  {
   "cell_type": "code",
   "execution_count": 80,
   "id": "db840290",
   "metadata": {},
   "outputs": [
    {
     "data": {
      "text/plain": [
       "(1683, 1)"
      ]
     },
     "execution_count": 80,
     "metadata": {},
     "output_type": "execute_result"
    }
   ],
   "source": [
    "y_train.shape"
   ]
  },
  {
   "cell_type": "code",
   "execution_count": 81,
   "id": "64584480",
   "metadata": {},
   "outputs": [
    {
     "data": {
      "text/plain": [
       "(421, 12)"
      ]
     },
     "execution_count": 81,
     "metadata": {},
     "output_type": "execute_result"
    }
   ],
   "source": [
    "x_val.shape"
   ]
  },
  {
   "cell_type": "code",
   "execution_count": 82,
   "id": "5e586def",
   "metadata": {},
   "outputs": [
    {
     "data": {
      "text/plain": [
       "(421, 1)"
      ]
     },
     "execution_count": 82,
     "metadata": {},
     "output_type": "execute_result"
    }
   ],
   "source": [
    "y_val.shape"
   ]
  },
  {
   "cell_type": "markdown",
   "id": "a31e59b3",
   "metadata": {},
   "source": [
    "### Model Building"
   ]
  },
  {
   "cell_type": "code",
   "execution_count": 83,
   "id": "320788da",
   "metadata": {},
   "outputs": [],
   "source": [
    "from sklearn.linear_model import LinearRegression"
   ]
  },
  {
   "cell_type": "code",
   "execution_count": 84,
   "id": "7a0fc98b",
   "metadata": {},
   "outputs": [],
   "source": [
    "lr=LinearRegression()"
   ]
  },
  {
   "cell_type": "code",
   "execution_count": 85,
   "id": "31220bb6",
   "metadata": {},
   "outputs": [
    {
     "data": {
      "text/html": [
       "<style>#sk-container-id-1 {color: black;background-color: white;}#sk-container-id-1 pre{padding: 0;}#sk-container-id-1 div.sk-toggleable {background-color: white;}#sk-container-id-1 label.sk-toggleable__label {cursor: pointer;display: block;width: 100%;margin-bottom: 0;padding: 0.3em;box-sizing: border-box;text-align: center;}#sk-container-id-1 label.sk-toggleable__label-arrow:before {content: \"▸\";float: left;margin-right: 0.25em;color: #696969;}#sk-container-id-1 label.sk-toggleable__label-arrow:hover:before {color: black;}#sk-container-id-1 div.sk-estimator:hover label.sk-toggleable__label-arrow:before {color: black;}#sk-container-id-1 div.sk-toggleable__content {max-height: 0;max-width: 0;overflow: hidden;text-align: left;background-color: #f0f8ff;}#sk-container-id-1 div.sk-toggleable__content pre {margin: 0.2em;color: black;border-radius: 0.25em;background-color: #f0f8ff;}#sk-container-id-1 input.sk-toggleable__control:checked~div.sk-toggleable__content {max-height: 200px;max-width: 100%;overflow: auto;}#sk-container-id-1 input.sk-toggleable__control:checked~label.sk-toggleable__label-arrow:before {content: \"▾\";}#sk-container-id-1 div.sk-estimator input.sk-toggleable__control:checked~label.sk-toggleable__label {background-color: #d4ebff;}#sk-container-id-1 div.sk-label input.sk-toggleable__control:checked~label.sk-toggleable__label {background-color: #d4ebff;}#sk-container-id-1 input.sk-hidden--visually {border: 0;clip: rect(1px 1px 1px 1px);clip: rect(1px, 1px, 1px, 1px);height: 1px;margin: -1px;overflow: hidden;padding: 0;position: absolute;width: 1px;}#sk-container-id-1 div.sk-estimator {font-family: monospace;background-color: #f0f8ff;border: 1px dotted black;border-radius: 0.25em;box-sizing: border-box;margin-bottom: 0.5em;}#sk-container-id-1 div.sk-estimator:hover {background-color: #d4ebff;}#sk-container-id-1 div.sk-parallel-item::after {content: \"\";width: 100%;border-bottom: 1px solid gray;flex-grow: 1;}#sk-container-id-1 div.sk-label:hover label.sk-toggleable__label {background-color: #d4ebff;}#sk-container-id-1 div.sk-serial::before {content: \"\";position: absolute;border-left: 1px solid gray;box-sizing: border-box;top: 0;bottom: 0;left: 50%;z-index: 0;}#sk-container-id-1 div.sk-serial {display: flex;flex-direction: column;align-items: center;background-color: white;padding-right: 0.2em;padding-left: 0.2em;position: relative;}#sk-container-id-1 div.sk-item {position: relative;z-index: 1;}#sk-container-id-1 div.sk-parallel {display: flex;align-items: stretch;justify-content: center;background-color: white;position: relative;}#sk-container-id-1 div.sk-item::before, #sk-container-id-1 div.sk-parallel-item::before {content: \"\";position: absolute;border-left: 1px solid gray;box-sizing: border-box;top: 0;bottom: 0;left: 50%;z-index: -1;}#sk-container-id-1 div.sk-parallel-item {display: flex;flex-direction: column;z-index: 1;position: relative;background-color: white;}#sk-container-id-1 div.sk-parallel-item:first-child::after {align-self: flex-end;width: 50%;}#sk-container-id-1 div.sk-parallel-item:last-child::after {align-self: flex-start;width: 50%;}#sk-container-id-1 div.sk-parallel-item:only-child::after {width: 0;}#sk-container-id-1 div.sk-dashed-wrapped {border: 1px dashed gray;margin: 0 0.4em 0.5em 0.4em;box-sizing: border-box;padding-bottom: 0.4em;background-color: white;}#sk-container-id-1 div.sk-label label {font-family: monospace;font-weight: bold;display: inline-block;line-height: 1.2em;}#sk-container-id-1 div.sk-label-container {text-align: center;}#sk-container-id-1 div.sk-container {/* jupyter's `normalize.less` sets `[hidden] { display: none; }` but bootstrap.min.css set `[hidden] { display: none !important; }` so we also need the `!important` here to be able to override the default hidden behavior on the sphinx rendered scikit-learn.org. See: https://github.com/scikit-learn/scikit-learn/issues/21755 */display: inline-block !important;position: relative;}#sk-container-id-1 div.sk-text-repr-fallback {display: none;}</style><div id=\"sk-container-id-1\" class=\"sk-top-container\"><div class=\"sk-text-repr-fallback\"><pre>LinearRegression()</pre><b>In a Jupyter environment, please rerun this cell to show the HTML representation or trust the notebook. <br />On GitHub, the HTML representation is unable to render, please try loading this page with nbviewer.org.</b></div><div class=\"sk-container\" hidden><div class=\"sk-item\"><div class=\"sk-estimator sk-toggleable\"><input class=\"sk-toggleable__control sk-hidden--visually\" id=\"sk-estimator-id-1\" type=\"checkbox\" checked><label for=\"sk-estimator-id-1\" class=\"sk-toggleable__label sk-toggleable__label-arrow\">LinearRegression</label><div class=\"sk-toggleable__content\"><pre>LinearRegression()</pre></div></div></div></div></div>"
      ],
      "text/plain": [
       "LinearRegression()"
      ]
     },
     "execution_count": 85,
     "metadata": {},
     "output_type": "execute_result"
    }
   ],
   "source": [
    "lr"
   ]
  },
  {
   "cell_type": "code",
   "execution_count": 86,
   "id": "313958b1",
   "metadata": {},
   "outputs": [
    {
     "data": {
      "text/html": [
       "<style>#sk-container-id-2 {color: black;background-color: white;}#sk-container-id-2 pre{padding: 0;}#sk-container-id-2 div.sk-toggleable {background-color: white;}#sk-container-id-2 label.sk-toggleable__label {cursor: pointer;display: block;width: 100%;margin-bottom: 0;padding: 0.3em;box-sizing: border-box;text-align: center;}#sk-container-id-2 label.sk-toggleable__label-arrow:before {content: \"▸\";float: left;margin-right: 0.25em;color: #696969;}#sk-container-id-2 label.sk-toggleable__label-arrow:hover:before {color: black;}#sk-container-id-2 div.sk-estimator:hover label.sk-toggleable__label-arrow:before {color: black;}#sk-container-id-2 div.sk-toggleable__content {max-height: 0;max-width: 0;overflow: hidden;text-align: left;background-color: #f0f8ff;}#sk-container-id-2 div.sk-toggleable__content pre {margin: 0.2em;color: black;border-radius: 0.25em;background-color: #f0f8ff;}#sk-container-id-2 input.sk-toggleable__control:checked~div.sk-toggleable__content {max-height: 200px;max-width: 100%;overflow: auto;}#sk-container-id-2 input.sk-toggleable__control:checked~label.sk-toggleable__label-arrow:before {content: \"▾\";}#sk-container-id-2 div.sk-estimator input.sk-toggleable__control:checked~label.sk-toggleable__label {background-color: #d4ebff;}#sk-container-id-2 div.sk-label input.sk-toggleable__control:checked~label.sk-toggleable__label {background-color: #d4ebff;}#sk-container-id-2 input.sk-hidden--visually {border: 0;clip: rect(1px 1px 1px 1px);clip: rect(1px, 1px, 1px, 1px);height: 1px;margin: -1px;overflow: hidden;padding: 0;position: absolute;width: 1px;}#sk-container-id-2 div.sk-estimator {font-family: monospace;background-color: #f0f8ff;border: 1px dotted black;border-radius: 0.25em;box-sizing: border-box;margin-bottom: 0.5em;}#sk-container-id-2 div.sk-estimator:hover {background-color: #d4ebff;}#sk-container-id-2 div.sk-parallel-item::after {content: \"\";width: 100%;border-bottom: 1px solid gray;flex-grow: 1;}#sk-container-id-2 div.sk-label:hover label.sk-toggleable__label {background-color: #d4ebff;}#sk-container-id-2 div.sk-serial::before {content: \"\";position: absolute;border-left: 1px solid gray;box-sizing: border-box;top: 0;bottom: 0;left: 50%;z-index: 0;}#sk-container-id-2 div.sk-serial {display: flex;flex-direction: column;align-items: center;background-color: white;padding-right: 0.2em;padding-left: 0.2em;position: relative;}#sk-container-id-2 div.sk-item {position: relative;z-index: 1;}#sk-container-id-2 div.sk-parallel {display: flex;align-items: stretch;justify-content: center;background-color: white;position: relative;}#sk-container-id-2 div.sk-item::before, #sk-container-id-2 div.sk-parallel-item::before {content: \"\";position: absolute;border-left: 1px solid gray;box-sizing: border-box;top: 0;bottom: 0;left: 50%;z-index: -1;}#sk-container-id-2 div.sk-parallel-item {display: flex;flex-direction: column;z-index: 1;position: relative;background-color: white;}#sk-container-id-2 div.sk-parallel-item:first-child::after {align-self: flex-end;width: 50%;}#sk-container-id-2 div.sk-parallel-item:last-child::after {align-self: flex-start;width: 50%;}#sk-container-id-2 div.sk-parallel-item:only-child::after {width: 0;}#sk-container-id-2 div.sk-dashed-wrapped {border: 1px dashed gray;margin: 0 0.4em 0.5em 0.4em;box-sizing: border-box;padding-bottom: 0.4em;background-color: white;}#sk-container-id-2 div.sk-label label {font-family: monospace;font-weight: bold;display: inline-block;line-height: 1.2em;}#sk-container-id-2 div.sk-label-container {text-align: center;}#sk-container-id-2 div.sk-container {/* jupyter's `normalize.less` sets `[hidden] { display: none; }` but bootstrap.min.css set `[hidden] { display: none !important; }` so we also need the `!important` here to be able to override the default hidden behavior on the sphinx rendered scikit-learn.org. See: https://github.com/scikit-learn/scikit-learn/issues/21755 */display: inline-block !important;position: relative;}#sk-container-id-2 div.sk-text-repr-fallback {display: none;}</style><div id=\"sk-container-id-2\" class=\"sk-top-container\"><div class=\"sk-text-repr-fallback\"><pre>LinearRegression()</pre><b>In a Jupyter environment, please rerun this cell to show the HTML representation or trust the notebook. <br />On GitHub, the HTML representation is unable to render, please try loading this page with nbviewer.org.</b></div><div class=\"sk-container\" hidden><div class=\"sk-item\"><div class=\"sk-estimator sk-toggleable\"><input class=\"sk-toggleable__control sk-hidden--visually\" id=\"sk-estimator-id-2\" type=\"checkbox\" checked><label for=\"sk-estimator-id-2\" class=\"sk-toggleable__label sk-toggleable__label-arrow\">LinearRegression</label><div class=\"sk-toggleable__content\"><pre>LinearRegression()</pre></div></div></div></div></div>"
      ],
      "text/plain": [
       "LinearRegression()"
      ]
     },
     "execution_count": 86,
     "metadata": {},
     "output_type": "execute_result"
    }
   ],
   "source": [
    "lr.fit(x_train,y_train)"
   ]
  },
  {
   "cell_type": "markdown",
   "id": "c6adb733",
   "metadata": {},
   "source": [
    "### Prediction on training data"
   ]
  },
  {
   "cell_type": "code",
   "execution_count": 87,
   "id": "a6d82bfc",
   "metadata": {},
   "outputs": [
    {
     "data": {
      "text/plain": [
       "array([[ 5.87278841],\n",
       "       [10.28590885],\n",
       "       [16.90866158],\n",
       "       ...,\n",
       "       [16.46911197],\n",
       "       [16.99481623],\n",
       "       [19.57962001]])"
      ]
     },
     "execution_count": 87,
     "metadata": {},
     "output_type": "execute_result"
    }
   ],
   "source": [
    "lr.predict(x_train)"
   ]
  },
  {
   "cell_type": "markdown",
   "id": "daa058dc",
   "metadata": {},
   "source": [
    "### Score on training data"
   ]
  },
  {
   "cell_type": "code",
   "execution_count": 88,
   "id": "0bdc9d27",
   "metadata": {},
   "outputs": [
    {
     "data": {
      "text/plain": [
       "0.7829798202449039"
      ]
     },
     "execution_count": 88,
     "metadata": {},
     "output_type": "execute_result"
    }
   ],
   "source": [
    "lr.score(x_train,y_train)"
   ]
  },
  {
   "cell_type": "markdown",
   "id": "1d328fd9",
   "metadata": {},
   "source": [
    "### Prediction on validation data"
   ]
  },
  {
   "cell_type": "code",
   "execution_count": 89,
   "id": "16a03615",
   "metadata": {},
   "outputs": [
    {
     "data": {
      "text/plain": [
       "array([[15.64609408],\n",
       "       [ 6.96418928],\n",
       "       [14.03586899],\n",
       "       [15.36438557],\n",
       "       [ 2.74342522],\n",
       "       [12.22783757],\n",
       "       [11.32754739],\n",
       "       [17.98487743],\n",
       "       [ 8.24640211],\n",
       "       [14.30756821],\n",
       "       [10.00479869],\n",
       "       [12.69978443],\n",
       "       [12.64928798],\n",
       "       [15.41614714],\n",
       "       [11.66376737],\n",
       "       [14.84177204],\n",
       "       [12.38758228],\n",
       "       [11.54933275],\n",
       "       [12.68855627],\n",
       "       [ 9.84399438],\n",
       "       [12.284682  ],\n",
       "       [ 5.21617144],\n",
       "       [15.44836068],\n",
       "       [ 8.94026755],\n",
       "       [ 4.24839671],\n",
       "       [ 9.09356075],\n",
       "       [11.43218705],\n",
       "       [12.3206184 ],\n",
       "       [11.99890961],\n",
       "       [20.15878852],\n",
       "       [18.65374443],\n",
       "       [ 6.50874075],\n",
       "       [13.57915813],\n",
       "       [16.40636973],\n",
       "       [11.41272874],\n",
       "       [13.39982369],\n",
       "       [10.044326  ],\n",
       "       [ 5.34805001],\n",
       "       [14.28534571],\n",
       "       [12.13150076],\n",
       "       [16.20638091],\n",
       "       [ 4.35371246],\n",
       "       [19.27078588],\n",
       "       [12.4235133 ],\n",
       "       [14.22278446],\n",
       "       [15.35812107],\n",
       "       [13.93226996],\n",
       "       [19.5564856 ],\n",
       "       [19.9428305 ],\n",
       "       [14.87724728],\n",
       "       [ 6.11227288],\n",
       "       [ 6.43592238],\n",
       "       [15.13317008],\n",
       "       [14.31097967],\n",
       "       [11.04703329],\n",
       "       [16.74678855],\n",
       "       [10.01602137],\n",
       "       [11.90360908],\n",
       "       [15.57822025],\n",
       "       [ 6.1366181 ],\n",
       "       [13.64031007],\n",
       "       [14.93929927],\n",
       "       [ 4.13321479],\n",
       "       [13.88882956],\n",
       "       [14.45186277],\n",
       "       [15.93106935],\n",
       "       [16.31509809],\n",
       "       [13.63435061],\n",
       "       [14.1419274 ],\n",
       "       [ 7.61115557],\n",
       "       [12.15612051],\n",
       "       [11.42695235],\n",
       "       [17.92141312],\n",
       "       [15.67922521],\n",
       "       [15.35841808],\n",
       "       [12.79883157],\n",
       "       [14.73178996],\n",
       "       [13.5446031 ],\n",
       "       [14.56256824],\n",
       "       [13.98684398],\n",
       "       [12.80973297],\n",
       "       [17.17382784],\n",
       "       [13.83248817],\n",
       "       [ 4.28475178],\n",
       "       [14.84059982],\n",
       "       [12.62395219],\n",
       "       [11.6070827 ],\n",
       "       [13.8293857 ],\n",
       "       [15.24465389],\n",
       "       [15.95518002],\n",
       "       [18.95194352],\n",
       "       [ 9.64416621],\n",
       "       [14.12768659],\n",
       "       [11.41798766],\n",
       "       [11.40648692],\n",
       "       [ 5.81827251],\n",
       "       [14.03757632],\n",
       "       [18.2183638 ],\n",
       "       [21.35377606],\n",
       "       [12.40509979],\n",
       "       [11.67043049],\n",
       "       [14.97137042],\n",
       "       [16.45703278],\n",
       "       [ 7.39737016],\n",
       "       [11.01630532],\n",
       "       [13.55993823],\n",
       "       [11.98738327],\n",
       "       [12.28118129],\n",
       "       [13.15763698],\n",
       "       [ 7.38959197],\n",
       "       [13.78129442],\n",
       "       [ 9.41036308],\n",
       "       [14.58519458],\n",
       "       [ 5.71768268],\n",
       "       [15.33564934],\n",
       "       [15.39156003],\n",
       "       [13.9960051 ],\n",
       "       [14.01731034],\n",
       "       [ 7.92499521],\n",
       "       [14.48394291],\n",
       "       [ 9.6453732 ],\n",
       "       [ 3.05839182],\n",
       "       [ 6.8285129 ],\n",
       "       [ 7.10330595],\n",
       "       [13.18798491],\n",
       "       [13.41598533],\n",
       "       [15.77993385],\n",
       "       [18.07593266],\n",
       "       [19.97925172],\n",
       "       [12.88955278],\n",
       "       [12.62959307],\n",
       "       [13.86974412],\n",
       "       [ 7.7649007 ],\n",
       "       [14.4815295 ],\n",
       "       [15.33829208],\n",
       "       [ 9.1519083 ],\n",
       "       [15.68005935],\n",
       "       [15.37921879],\n",
       "       [ 9.99760896],\n",
       "       [14.2458619 ],\n",
       "       [14.42680617],\n",
       "       [13.95051558],\n",
       "       [11.49162679],\n",
       "       [ 9.9887736 ],\n",
       "       [11.9148749 ],\n",
       "       [12.76859114],\n",
       "       [17.15469202],\n",
       "       [16.56075965],\n",
       "       [ 9.05426864],\n",
       "       [16.28077036],\n",
       "       [11.31306218],\n",
       "       [11.93678207],\n",
       "       [ 8.86262789],\n",
       "       [ 9.32200549],\n",
       "       [12.79889268],\n",
       "       [ 9.53905628],\n",
       "       [13.67715604],\n",
       "       [16.58076789],\n",
       "       [ 9.93962051],\n",
       "       [18.20797185],\n",
       "       [ 9.49088592],\n",
       "       [12.44145455],\n",
       "       [12.21555161],\n",
       "       [16.81879742],\n",
       "       [ 6.99617174],\n",
       "       [11.23096788],\n",
       "       [11.84906652],\n",
       "       [ 7.04028738],\n",
       "       [12.39568221],\n",
       "       [14.32745933],\n",
       "       [ 6.95683683],\n",
       "       [13.3412486 ],\n",
       "       [13.97125332],\n",
       "       [16.78220933],\n",
       "       [17.1197183 ],\n",
       "       [14.02177336],\n",
       "       [14.66456044],\n",
       "       [13.1774551 ],\n",
       "       [16.17346844],\n",
       "       [11.85873893],\n",
       "       [11.57165233],\n",
       "       [13.82657186],\n",
       "       [ 9.24188287],\n",
       "       [11.02992938],\n",
       "       [14.77255506],\n",
       "       [13.70135024],\n",
       "       [18.88015863],\n",
       "       [ 3.34849051],\n",
       "       [12.01792609],\n",
       "       [18.33831639],\n",
       "       [14.41206066],\n",
       "       [13.6264706 ],\n",
       "       [10.82579368],\n",
       "       [15.26680588],\n",
       "       [12.76063425],\n",
       "       [ 8.43690214],\n",
       "       [16.65533196],\n",
       "       [13.72838277],\n",
       "       [12.76139879],\n",
       "       [14.04080936],\n",
       "       [17.6837953 ],\n",
       "       [14.16073103],\n",
       "       [ 8.43338184],\n",
       "       [12.37850398],\n",
       "       [ 7.48375497],\n",
       "       [ 5.15671038],\n",
       "       [18.63248384],\n",
       "       [ 9.69680514],\n",
       "       [18.76003307],\n",
       "       [12.68746965],\n",
       "       [15.72425562],\n",
       "       [ 2.69005187],\n",
       "       [12.96181686],\n",
       "       [12.85983439],\n",
       "       [ 8.02596518],\n",
       "       [11.84668215],\n",
       "       [11.4406547 ],\n",
       "       [14.23095944],\n",
       "       [15.03535745],\n",
       "       [14.35432707],\n",
       "       [ 4.0540909 ],\n",
       "       [ 7.61306206],\n",
       "       [ 3.6276787 ],\n",
       "       [14.49464148],\n",
       "       [10.91396167],\n",
       "       [13.50937553],\n",
       "       [13.67186514],\n",
       "       [10.0608082 ],\n",
       "       [14.06263223],\n",
       "       [10.90449664],\n",
       "       [10.45093641],\n",
       "       [ 9.74251368],\n",
       "       [14.74608323],\n",
       "       [12.16892069],\n",
       "       [11.79110592],\n",
       "       [ 8.28185855],\n",
       "       [11.16268285],\n",
       "       [15.10696977],\n",
       "       [ 5.59135316],\n",
       "       [14.86113542],\n",
       "       [16.62339198],\n",
       "       [14.81862053],\n",
       "       [14.05345544],\n",
       "       [16.48500207],\n",
       "       [10.04649767],\n",
       "       [15.43058568],\n",
       "       [10.73962172],\n",
       "       [15.54812442],\n",
       "       [14.61607733],\n",
       "       [15.97230759],\n",
       "       [14.87628139],\n",
       "       [13.68929267],\n",
       "       [17.83216639],\n",
       "       [18.17773864],\n",
       "       [13.03528369],\n",
       "       [14.64488588],\n",
       "       [11.59517937],\n",
       "       [13.69442775],\n",
       "       [12.03958094],\n",
       "       [13.35039264],\n",
       "       [14.32120877],\n",
       "       [15.31636949],\n",
       "       [12.21547863],\n",
       "       [14.06088723],\n",
       "       [ 8.55674751],\n",
       "       [16.82070702],\n",
       "       [10.06077703],\n",
       "       [ 9.73839381],\n",
       "       [18.24276651],\n",
       "       [14.09906542],\n",
       "       [13.9070616 ],\n",
       "       [13.56024248],\n",
       "       [10.28174978],\n",
       "       [12.92043214],\n",
       "       [15.36173729],\n",
       "       [ 7.37308052],\n",
       "       [12.76812298],\n",
       "       [12.15287214],\n",
       "       [14.71149965],\n",
       "       [14.34627368],\n",
       "       [ 8.73686164],\n",
       "       [ 9.62314502],\n",
       "       [14.38328969],\n",
       "       [13.15389102],\n",
       "       [12.59661232],\n",
       "       [13.06211085],\n",
       "       [13.41004053],\n",
       "       [15.94204497],\n",
       "       [15.82817586],\n",
       "       [21.19778857],\n",
       "       [ 7.21599897],\n",
       "       [10.45886195],\n",
       "       [14.39866661],\n",
       "       [14.30092046],\n",
       "       [10.67296625],\n",
       "       [15.80488193],\n",
       "       [ 8.09326815],\n",
       "       [17.64578472],\n",
       "       [14.32522452],\n",
       "       [15.50394374],\n",
       "       [ 5.95182221],\n",
       "       [19.87478574],\n",
       "       [11.16950368],\n",
       "       [12.16692776],\n",
       "       [16.70154289],\n",
       "       [ 7.64084996],\n",
       "       [13.85111539],\n",
       "       [ 7.16242722],\n",
       "       [20.1727871 ],\n",
       "       [15.40226285],\n",
       "       [14.12514372],\n",
       "       [15.61111111],\n",
       "       [ 6.9232934 ],\n",
       "       [13.65776475],\n",
       "       [ 9.35055191],\n",
       "       [10.71905133],\n",
       "       [13.57333606],\n",
       "       [12.82464736],\n",
       "       [12.28976886],\n",
       "       [11.64333116],\n",
       "       [13.58874826],\n",
       "       [15.6080871 ],\n",
       "       [18.46849243],\n",
       "       [13.81884443],\n",
       "       [ 9.92362946],\n",
       "       [10.88104153],\n",
       "       [23.27268895],\n",
       "       [14.77957535],\n",
       "       [18.12255315],\n",
       "       [ 8.85090876],\n",
       "       [16.8678833 ],\n",
       "       [ 8.13923679],\n",
       "       [10.6288045 ],\n",
       "       [ 4.67159218],\n",
       "       [16.84525006],\n",
       "       [ 8.01298116],\n",
       "       [11.56636765],\n",
       "       [14.93933907],\n",
       "       [14.07453645],\n",
       "       [17.22008478],\n",
       "       [13.0953466 ],\n",
       "       [11.65097729],\n",
       "       [12.30037442],\n",
       "       [11.13512383],\n",
       "       [10.1162667 ],\n",
       "       [11.83395746],\n",
       "       [10.17896735],\n",
       "       [18.68435332],\n",
       "       [16.9009279 ],\n",
       "       [11.12814347],\n",
       "       [15.43479058],\n",
       "       [ 8.15238425],\n",
       "       [ 9.48515016],\n",
       "       [11.21242123],\n",
       "       [15.10051645],\n",
       "       [14.94203743],\n",
       "       [ 5.02891222],\n",
       "       [15.18846282],\n",
       "       [20.67237159],\n",
       "       [ 6.62825031],\n",
       "       [ 6.21203988],\n",
       "       [ 6.37888691],\n",
       "       [15.34322799],\n",
       "       [15.2811199 ],\n",
       "       [12.99575491],\n",
       "       [19.40016055],\n",
       "       [14.76775849],\n",
       "       [21.31914549],\n",
       "       [19.09305515],\n",
       "       [10.68019207],\n",
       "       [13.24122524],\n",
       "       [12.81165753],\n",
       "       [13.81657622],\n",
       "       [13.47760483],\n",
       "       [ 9.98435797],\n",
       "       [14.93083348],\n",
       "       [ 3.42983582],\n",
       "       [17.26885334],\n",
       "       [18.70648063],\n",
       "       [18.6186641 ],\n",
       "       [13.14084745],\n",
       "       [15.86823527],\n",
       "       [10.73780231],\n",
       "       [16.09327589],\n",
       "       [13.02274009],\n",
       "       [16.54375458],\n",
       "       [15.06478918],\n",
       "       [13.32426855],\n",
       "       [11.86838079],\n",
       "       [12.08232405],\n",
       "       [13.92223823],\n",
       "       [16.54247134],\n",
       "       [13.03343076],\n",
       "       [13.89025761],\n",
       "       [14.54011119],\n",
       "       [14.37502571],\n",
       "       [16.56593805],\n",
       "       [14.97903852],\n",
       "       [17.863854  ],\n",
       "       [15.82147488],\n",
       "       [12.51488719],\n",
       "       [15.50627999],\n",
       "       [ 9.31622029],\n",
       "       [ 9.99183323],\n",
       "       [ 8.74447519],\n",
       "       [12.16476559],\n",
       "       [10.92255719],\n",
       "       [12.5906239 ],\n",
       "       [ 9.87820668],\n",
       "       [11.14012818],\n",
       "       [12.86511156],\n",
       "       [ 3.24088233],\n",
       "       [18.61022385],\n",
       "       [13.54265896],\n",
       "       [13.09225091],\n",
       "       [10.114488  ],\n",
       "       [15.53749748],\n",
       "       [15.16280517],\n",
       "       [13.71923982],\n",
       "       [15.63929052],\n",
       "       [14.54904228]])"
      ]
     },
     "execution_count": 89,
     "metadata": {},
     "output_type": "execute_result"
    }
   ],
   "source": [
    "lr.predict(x_val)"
   ]
  },
  {
   "cell_type": "markdown",
   "id": "eaf5e62c",
   "metadata": {},
   "source": [
    "### Score on validation data"
   ]
  },
  {
   "cell_type": "code",
   "execution_count": 90,
   "id": "b297ef73",
   "metadata": {},
   "outputs": [
    {
     "data": {
      "text/plain": [
       "0.7448080818351004"
      ]
     },
     "execution_count": 90,
     "metadata": {},
     "output_type": "execute_result"
    }
   ],
   "source": [
    "lr.score(x_val,y_val)"
   ]
  },
  {
   "cell_type": "markdown",
   "id": "7d7ca693",
   "metadata": {},
   "source": [
    "### Saving the model"
   ]
  },
  {
   "cell_type": "code",
   "execution_count": 91,
   "id": "ff39e7ab",
   "metadata": {},
   "outputs": [],
   "source": [
    "import pickle"
   ]
  },
  {
   "cell_type": "code",
   "execution_count": 92,
   "id": "71c6d6f0",
   "metadata": {},
   "outputs": [],
   "source": [
    "with open('linear_model.pkl','wb')as f:\n",
    "    pickle.dump(lr,f)"
   ]
  },
  {
   "cell_type": "code",
   "execution_count": 93,
   "id": "8b74a75a",
   "metadata": {},
   "outputs": [],
   "source": [
    "with open('linear_model.pkl','rb') as f:\n",
    "    model=pickle.load(f)"
   ]
  },
  {
   "cell_type": "code",
   "execution_count": 94,
   "id": "3c973414",
   "metadata": {},
   "outputs": [
    {
     "data": {
      "text/plain": [
       "array([[15.53166064],\n",
       "       [15.91108114],\n",
       "       [10.10191544],\n",
       "       [ 3.32424736],\n",
       "       [15.27566509],\n",
       "       [15.6490679 ],\n",
       "       [10.30448517],\n",
       "       [15.01111684],\n",
       "       [12.18621282],\n",
       "       [10.15815738],\n",
       "       [11.59093767],\n",
       "       [13.62944673],\n",
       "       [13.60051689],\n",
       "       [18.70561147],\n",
       "       [10.55490772],\n",
       "       [15.68306398],\n",
       "       [13.8999759 ],\n",
       "       [14.30794262],\n",
       "       [22.3788904 ],\n",
       "       [17.9865511 ],\n",
       "       [10.48567319],\n",
       "       [15.24060068],\n",
       "       [ 9.33347736],\n",
       "       [10.45685022],\n",
       "       [19.77811598],\n",
       "       [12.24374883],\n",
       "       [17.25459449],\n",
       "       [15.39815372],\n",
       "       [15.37243281],\n",
       "       [12.62299986],\n",
       "       [14.94961892],\n",
       "       [14.13988064],\n",
       "       [14.42810697],\n",
       "       [19.15538509],\n",
       "       [10.43473651],\n",
       "       [11.68630901],\n",
       "       [16.33078161],\n",
       "       [14.43815013],\n",
       "       [10.82068637],\n",
       "       [13.08548558],\n",
       "       [16.00638676],\n",
       "       [17.39115856],\n",
       "       [14.96496513],\n",
       "       [16.51612775],\n",
       "       [17.07344631],\n",
       "       [10.04180276],\n",
       "       [13.55507038],\n",
       "       [20.58246663],\n",
       "       [ 9.47037756],\n",
       "       [19.8508721 ],\n",
       "       [15.77028972],\n",
       "       [14.80218091],\n",
       "       [18.21190342],\n",
       "       [14.98226175],\n",
       "       [10.73152089],\n",
       "       [15.32459155],\n",
       "       [13.76552689],\n",
       "       [16.67778153],\n",
       "       [ 8.58091652],\n",
       "       [14.63560189],\n",
       "       [ 9.4784667 ],\n",
       "       [11.55703875],\n",
       "       [13.06038837],\n",
       "       [15.12843688],\n",
       "       [10.54977221],\n",
       "       [14.64501924],\n",
       "       [17.92249595],\n",
       "       [20.77098919],\n",
       "       [20.05485112],\n",
       "       [13.41468681],\n",
       "       [16.8048815 ],\n",
       "       [10.72251564],\n",
       "       [10.16298614],\n",
       "       [17.27917657],\n",
       "       [ 7.93175415],\n",
       "       [15.95027473],\n",
       "       [10.44846974],\n",
       "       [ 9.24262544],\n",
       "       [12.85247662],\n",
       "       [13.87949377],\n",
       "       [ 8.63531166],\n",
       "       [ 9.10708547],\n",
       "       [14.6278611 ],\n",
       "       [ 7.91283937],\n",
       "       [11.45099599],\n",
       "       [11.78219997],\n",
       "       [16.34014222],\n",
       "       [13.5684576 ],\n",
       "       [17.84295198],\n",
       "       [14.47184626],\n",
       "       [10.07313586],\n",
       "       [ 9.78096457],\n",
       "       [17.49269023],\n",
       "       [16.80628401],\n",
       "       [13.62574683],\n",
       "       [15.52621645],\n",
       "       [14.04849063],\n",
       "       [15.50888112],\n",
       "       [14.39252504],\n",
       "       [13.4386727 ],\n",
       "       [12.09664114],\n",
       "       [ 8.442371  ],\n",
       "       [11.28341407],\n",
       "       [11.00117269],\n",
       "       [13.31313634],\n",
       "       [11.44658896],\n",
       "       [21.44709269],\n",
       "       [ 7.45078238],\n",
       "       [17.05540698],\n",
       "       [15.61810333],\n",
       "       [ 6.57392029],\n",
       "       [13.2463752 ],\n",
       "       [14.40423446],\n",
       "       [14.73876171],\n",
       "       [ 9.79760848],\n",
       "       [14.37928732],\n",
       "       [14.28779773],\n",
       "       [ 8.91852491],\n",
       "       [11.33642034],\n",
       "       [17.40899083],\n",
       "       [15.82341105],\n",
       "       [ 8.03911717],\n",
       "       [19.16512621],\n",
       "       [ 3.77353873],\n",
       "       [12.16301803],\n",
       "       [14.09224709],\n",
       "       [10.05882716],\n",
       "       [14.19806011],\n",
       "       [19.05635984],\n",
       "       [15.9749058 ],\n",
       "       [13.65581274],\n",
       "       [13.01814218],\n",
       "       [ 9.10847253],\n",
       "       [14.17965505],\n",
       "       [13.65735877],\n",
       "       [11.93907604],\n",
       "       [11.56260869],\n",
       "       [ 9.78700152],\n",
       "       [16.77954376],\n",
       "       [12.11062544],\n",
       "       [10.66360796],\n",
       "       [ 7.54104344],\n",
       "       [10.3578918 ],\n",
       "       [11.43006577],\n",
       "       [13.36475953],\n",
       "       [10.67129982],\n",
       "       [ 7.14427307],\n",
       "       [14.33397225],\n",
       "       [12.187595  ],\n",
       "       [11.18633981],\n",
       "       [ 8.27900385],\n",
       "       [14.40224636],\n",
       "       [14.64877562],\n",
       "       [14.64120963],\n",
       "       [ 6.59777901],\n",
       "       [15.70866747],\n",
       "       [18.22367894],\n",
       "       [15.64944919],\n",
       "       [16.55071597],\n",
       "       [13.97330439],\n",
       "       [10.03625966],\n",
       "       [13.87696515],\n",
       "       [17.30863533],\n",
       "       [13.89508841],\n",
       "       [13.00522509],\n",
       "       [ 6.54324086],\n",
       "       [13.68938817],\n",
       "       [ 9.98370101],\n",
       "       [10.4524068 ],\n",
       "       [11.30359447],\n",
       "       [ 8.54332439],\n",
       "       [ 8.92990095],\n",
       "       [12.10352594],\n",
       "       [13.51578487],\n",
       "       [14.58566174],\n",
       "       [10.41148805],\n",
       "       [14.2421729 ],\n",
       "       [10.05414737],\n",
       "       [14.51353394],\n",
       "       [ 7.38306412],\n",
       "       [18.28084055],\n",
       "       [13.53382635],\n",
       "       [ 9.32194348],\n",
       "       [ 7.30636865],\n",
       "       [10.97098864],\n",
       "       [15.41881387],\n",
       "       [15.35693745],\n",
       "       [14.88339299],\n",
       "       [17.18805571],\n",
       "       [ 9.02235239],\n",
       "       [19.34506757],\n",
       "       [ 6.34051683],\n",
       "       [13.55158999],\n",
       "       [14.1965452 ],\n",
       "       [12.47620614],\n",
       "       [16.87159464],\n",
       "       [ 4.73716423],\n",
       "       [15.30132883],\n",
       "       [15.22962323],\n",
       "       [20.21318305],\n",
       "       [14.88769148],\n",
       "       [ 8.6787839 ],\n",
       "       [14.50796111],\n",
       "       [10.50684879],\n",
       "       [10.78417449],\n",
       "       [13.97344804],\n",
       "       [10.89731251],\n",
       "       [12.82508385],\n",
       "       [13.18165197],\n",
       "       [20.5410551 ],\n",
       "       [13.7947536 ],\n",
       "       [ 6.31062568],\n",
       "       [ 5.46523084],\n",
       "       [ 9.48015701],\n",
       "       [17.96686269],\n",
       "       [11.49985245],\n",
       "       [15.7564071 ],\n",
       "       [15.05782126],\n",
       "       [11.80951167],\n",
       "       [11.54985962],\n",
       "       [12.93570693],\n",
       "       [11.0011371 ],\n",
       "       [11.45586826],\n",
       "       [14.51207083],\n",
       "       [11.92869122],\n",
       "       [16.4683882 ],\n",
       "       [ 7.37519524],\n",
       "       [10.83510584],\n",
       "       [13.74807056],\n",
       "       [ 4.80230339],\n",
       "       [19.71662721],\n",
       "       [14.05338936],\n",
       "       [19.77297111],\n",
       "       [ 7.4327483 ],\n",
       "       [12.49565006],\n",
       "       [12.76871448],\n",
       "       [20.30016307],\n",
       "       [ 7.76042171],\n",
       "       [13.40454075],\n",
       "       [16.3667555 ],\n",
       "       [14.53263659],\n",
       "       [10.22065219],\n",
       "       [14.48581745],\n",
       "       [15.02290914],\n",
       "       [19.50446596],\n",
       "       [11.37296476],\n",
       "       [ 7.76323925],\n",
       "       [12.88094418],\n",
       "       [18.21203962],\n",
       "       [17.15824454],\n",
       "       [14.06307579],\n",
       "       [18.22903747],\n",
       "       [ 7.88869883],\n",
       "       [20.36196991],\n",
       "       [ 8.07768959],\n",
       "       [15.86340938],\n",
       "       [10.43130328],\n",
       "       [ 4.2987811 ],\n",
       "       [14.93078976],\n",
       "       [13.62171312],\n",
       "       [13.0147304 ],\n",
       "       [ 6.69904038],\n",
       "       [ 9.40074346],\n",
       "       [ 9.81371524],\n",
       "       [ 6.37487592],\n",
       "       [14.61941853],\n",
       "       [14.1889358 ],\n",
       "       [10.92255374],\n",
       "       [14.33499061],\n",
       "       [17.87989756],\n",
       "       [20.70977835],\n",
       "       [16.20880344],\n",
       "       [14.19550407],\n",
       "       [15.76199766],\n",
       "       [ 7.87229457],\n",
       "       [12.90566243],\n",
       "       [13.47044506],\n",
       "       [10.71047617],\n",
       "       [11.58494091],\n",
       "       [ 9.74194493],\n",
       "       [14.88623019],\n",
       "       [ 9.40111169],\n",
       "       [ 7.09442114],\n",
       "       [16.5330103 ],\n",
       "       [10.84020242],\n",
       "       [14.80649623],\n",
       "       [17.58131238],\n",
       "       [13.42381169]])"
      ]
     },
     "execution_count": 94,
     "metadata": {},
     "output_type": "execute_result"
    }
   ],
   "source": [
    "model.predict(test)"
   ]
  },
  {
   "cell_type": "code",
   "execution_count": null,
   "id": "320394a0",
   "metadata": {},
   "outputs": [],
   "source": []
  }
 ],
 "metadata": {
  "kernelspec": {
   "display_name": "Python 3 (ipykernel)",
   "language": "python",
   "name": "python3"
  },
  "language_info": {
   "codemirror_mode": {
    "name": "ipython",
    "version": 3
   },
   "file_extension": ".py",
   "mimetype": "text/x-python",
   "name": "python",
   "nbconvert_exporter": "python",
   "pygments_lexer": "ipython3",
   "version": "3.10.9"
  }
 },
 "nbformat": 4,
 "nbformat_minor": 5
}
